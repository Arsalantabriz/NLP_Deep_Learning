{
 "cells": [
  {
   "cell_type": "markdown",
   "id": "bff75bd7",
   "metadata": {},
   "source": [
    "## importing Library"
   ]
  },
  {
   "cell_type": "code",
   "execution_count": 6,
   "id": "e8758174",
   "metadata": {},
   "outputs": [],
   "source": [
    "import pandas as pd\n",
    "import matplotlib.pyplot as plt\n",
    "import seaborn as sns\n",
    "import spacy\n",
    "from spacy import displacy\n",
    "from spacy import tokenizer\n",
    "import re\n",
    "import nltk\n",
    "from nltk.tokenize import word_tokenize\n",
    "from nltk.stem import PorterStemmer,WordNetLemmatizer\n",
    "from nltk.corpus import stopwords\n",
    "from vaderSentiment.vaderSentiment import SentimentIntensityAnalyzer\n",
    "import gensim \n",
    "import gensim.corpora as corpora \n",
    "from gensim.models.coherencemodel import CoherenceModel\n",
    "from gensim.models import LsiModel,TfidfModel\n",
    "from sklearn.feature_extraction.text import TfidfVectorizer\n",
    "from sklearn.feature_extraction.text import CountVectorizer\n",
    "from sklearn.model_selection import train_test_split\n",
    "from sklearn.linear_model import LogisticRegression,SGDClassifier\n",
    "from sklearn.metrics import accuracy_score,classification_report\n",
    "import numpy as np"
   ]
  },
  {
   "cell_type": "code",
   "execution_count": 7,
   "id": "53084cc3",
   "metadata": {},
   "outputs": [],
   "source": [
    "data=pd.read_csv(\"Sheet_1.csv\")"
   ]
  },
  {
   "cell_type": "code",
   "execution_count": 8,
   "id": "0bd3bad7",
   "metadata": {},
   "outputs": [
    {
     "data": {
      "text/html": [
       "<div>\n",
       "<style scoped>\n",
       "    .dataframe tbody tr th:only-of-type {\n",
       "        vertical-align: middle;\n",
       "    }\n",
       "\n",
       "    .dataframe tbody tr th {\n",
       "        vertical-align: top;\n",
       "    }\n",
       "\n",
       "    .dataframe thead th {\n",
       "        text-align: right;\n",
       "    }\n",
       "</style>\n",
       "<table border=\"1\" class=\"dataframe\">\n",
       "  <thead>\n",
       "    <tr style=\"text-align: right;\">\n",
       "      <th></th>\n",
       "      <th>response_id</th>\n",
       "      <th>class</th>\n",
       "      <th>response_text</th>\n",
       "      <th>Unnamed: 3</th>\n",
       "      <th>Unnamed: 4</th>\n",
       "      <th>Unnamed: 5</th>\n",
       "      <th>Unnamed: 6</th>\n",
       "      <th>Unnamed: 7</th>\n",
       "    </tr>\n",
       "  </thead>\n",
       "  <tbody>\n",
       "    <tr>\n",
       "      <th>0</th>\n",
       "      <td>response_1</td>\n",
       "      <td>not_flagged</td>\n",
       "      <td>I try and avoid this sort of conflict</td>\n",
       "      <td>NaN</td>\n",
       "      <td>NaN</td>\n",
       "      <td>NaN</td>\n",
       "      <td>NaN</td>\n",
       "      <td>NaN</td>\n",
       "    </tr>\n",
       "    <tr>\n",
       "      <th>1</th>\n",
       "      <td>response_2</td>\n",
       "      <td>flagged</td>\n",
       "      <td>Had a friend open up to me about his mental ad...</td>\n",
       "      <td>NaN</td>\n",
       "      <td>NaN</td>\n",
       "      <td>NaN</td>\n",
       "      <td>NaN</td>\n",
       "      <td>NaN</td>\n",
       "    </tr>\n",
       "    <tr>\n",
       "      <th>2</th>\n",
       "      <td>response_3</td>\n",
       "      <td>flagged</td>\n",
       "      <td>I saved a girl from suicide once. She was goin...</td>\n",
       "      <td>NaN</td>\n",
       "      <td>NaN</td>\n",
       "      <td>NaN</td>\n",
       "      <td>NaN</td>\n",
       "      <td>NaN</td>\n",
       "    </tr>\n",
       "    <tr>\n",
       "      <th>3</th>\n",
       "      <td>response_4</td>\n",
       "      <td>not_flagged</td>\n",
       "      <td>i cant think of one really...i think i may hav...</td>\n",
       "      <td>NaN</td>\n",
       "      <td>NaN</td>\n",
       "      <td>NaN</td>\n",
       "      <td>NaN</td>\n",
       "      <td>NaN</td>\n",
       "    </tr>\n",
       "    <tr>\n",
       "      <th>4</th>\n",
       "      <td>response_5</td>\n",
       "      <td>not_flagged</td>\n",
       "      <td>Only really one friend who doesn't fit into th...</td>\n",
       "      <td></td>\n",
       "      <td>NaN</td>\n",
       "      <td>NaN</td>\n",
       "      <td>NaN</td>\n",
       "      <td>NaN</td>\n",
       "    </tr>\n",
       "  </tbody>\n",
       "</table>\n",
       "</div>"
      ],
      "text/plain": [
       "  response_id        class                                      response_text  \\\n",
       "0  response_1  not_flagged              I try and avoid this sort of conflict   \n",
       "1  response_2      flagged  Had a friend open up to me about his mental ad...   \n",
       "2  response_3      flagged  I saved a girl from suicide once. She was goin...   \n",
       "3  response_4  not_flagged  i cant think of one really...i think i may hav...   \n",
       "4  response_5  not_flagged  Only really one friend who doesn't fit into th...   \n",
       "\n",
       "  Unnamed: 3  Unnamed: 4 Unnamed: 5  Unnamed: 6 Unnamed: 7  \n",
       "0        NaN         NaN        NaN         NaN        NaN  \n",
       "1        NaN         NaN        NaN         NaN        NaN  \n",
       "2        NaN         NaN        NaN         NaN        NaN  \n",
       "3        NaN         NaN        NaN         NaN        NaN  \n",
       "4                    NaN        NaN         NaN        NaN  "
      ]
     },
     "execution_count": 8,
     "metadata": {},
     "output_type": "execute_result"
    }
   ],
   "source": [
    "data.head()"
   ]
  },
  {
   "cell_type": "code",
   "execution_count": 9,
   "id": "01ed89ef",
   "metadata": {},
   "outputs": [
    {
     "name": "stdout",
     "output_type": "stream",
     "text": [
      "<class 'pandas.core.frame.DataFrame'>\n",
      "RangeIndex: 80 entries, 0 to 79\n",
      "Data columns (total 8 columns):\n",
      " #   Column         Non-Null Count  Dtype  \n",
      "---  ------         --------------  -----  \n",
      " 0   response_id    80 non-null     object \n",
      " 1   class          80 non-null     object \n",
      " 2   response_text  80 non-null     object \n",
      " 3   Unnamed: 3     2 non-null      object \n",
      " 4   Unnamed: 4     0 non-null      float64\n",
      " 5   Unnamed: 5     1 non-null      object \n",
      " 6   Unnamed: 6     0 non-null      float64\n",
      " 7   Unnamed: 7     1 non-null      object \n",
      "dtypes: float64(2), object(6)\n",
      "memory usage: 5.1+ KB\n"
     ]
    }
   ],
   "source": [
    "data.info()"
   ]
  },
  {
   "cell_type": "code",
   "execution_count": 10,
   "id": "e60423a8",
   "metadata": {},
   "outputs": [],
   "source": [
    "data[\"class_mapped\"]=data[\"class\"].map({\"not_flagged\":0 ,\"flagged\":1})"
   ]
  },
  {
   "cell_type": "code",
   "execution_count": 11,
   "id": "c8ba1837",
   "metadata": {},
   "outputs": [
    {
     "data": {
      "text/plain": [
       "0    55\n",
       "1    25\n",
       "Name: class_mapped, dtype: int64"
      ]
     },
     "execution_count": 11,
     "metadata": {},
     "output_type": "execute_result"
    }
   ],
   "source": [
    "data[\"class_mapped\"].value_counts()"
   ]
  },
  {
   "cell_type": "code",
   "execution_count": 12,
   "id": "e9d5a9d9",
   "metadata": {},
   "outputs": [
    {
     "data": {
      "text/plain": [
       "0    0\n",
       "1    1\n",
       "2    1\n",
       "3    0\n",
       "4    0\n",
       "Name: class_mapped, dtype: int64"
      ]
     },
     "execution_count": 12,
     "metadata": {},
     "output_type": "execute_result"
    }
   ],
   "source": [
    "data[\"class_mapped\"].head()\n"
   ]
  },
  {
   "cell_type": "code",
   "execution_count": 13,
   "id": "15968750",
   "metadata": {},
   "outputs": [
    {
     "data": {
      "image/png": "[encoded data removed]",
      "text/plain": [
       "<Figure size 640x480 with 1 Axes>"
      ]
     },
     "metadata": {},
     "output_type": "display_data"
    }
   ],
   "source": [
    "labels=[\"Not_flagged\",\"Flagged\"]\n",
    "plt.pie(data[\"class_mapped\"].value_counts(),labels=labels, autopct='%1.1f%%',startangle=140, colors=['#ff9999','#66b3ff'])\n",
    "plt.show()"
   ]
  },
  {
   "cell_type": "code",
   "execution_count": 14,
   "id": "f847580d",
   "metadata": {},
   "outputs": [
    {
     "name": "stdout",
     "output_type": "stream",
     "text": [
      "Requirement already satisfied: imbalanced-learn in c:\\programdata\\anaconda3\\lib\\site-packages (0.11.0)\n",
      "Requirement already satisfied: joblib>=1.1.1 in c:\\programdata\\anaconda3\\lib\\site-packages (from imbalanced-learn) (1.3.2)\n",
      "Requirement already satisfied: scikit-learn>=1.0.2 in c:\\programdata\\anaconda3\\lib\\site-packages (from imbalanced-learn) (1.0.2)\n",
      "Requirement already satisfied: threadpoolctl>=2.0.0 in c:\\programdata\\anaconda3\\lib\\site-packages (from imbalanced-learn) (2.2.0)\n",
      "Requirement already satisfied: numpy>=1.17.3 in c:\\programdata\\anaconda3\\lib\\site-packages (from imbalanced-learn) (1.23.5)\n",
      "Requirement already satisfied: scipy>=1.5.0 in c:\\programdata\\anaconda3\\lib\\site-packages (from imbalanced-learn) (1.9.1)\n",
      "Note: you may need to restart the kernel to use updated packages.\n"
     ]
    }
   ],
   "source": [
    "pip install imbalanced-learn\n"
   ]
  },
  {
   "cell_type": "markdown",
   "id": "cc6aed25",
   "metadata": {},
   "source": [
    "## Balancing The Datasets\n"
   ]
  },
  {
   "cell_type": "code",
   "execution_count": 15,
   "id": "7ea90acd",
   "metadata": {},
   "outputs": [],
   "source": [
    "from imblearn.over_sampling import RandomOverSampler\n",
    "from imblearn.under_sampling import RandomUnderSampler"
   ]
  },
  {
   "cell_type": "code",
   "execution_count": 16,
   "id": "a230ff72",
   "metadata": {},
   "outputs": [],
   "source": [
    "ros = RandomOverSampler(sampling_strategy='auto', random_state=42)\n",
    "rus = RandomUnderSampler(sampling_strategy='auto', random_state=42)"
   ]
  },
  {
   "cell_type": "code",
   "execution_count": 17,
   "id": "bbf0bb61",
   "metadata": {},
   "outputs": [
    {
     "data": {
      "text/html": [
       "<div>\n",
       "<style scoped>\n",
       "    .dataframe tbody tr th:only-of-type {\n",
       "        vertical-align: middle;\n",
       "    }\n",
       "\n",
       "    .dataframe tbody tr th {\n",
       "        vertical-align: top;\n",
       "    }\n",
       "\n",
       "    .dataframe thead th {\n",
       "        text-align: right;\n",
       "    }\n",
       "</style>\n",
       "<table border=\"1\" class=\"dataframe\">\n",
       "  <thead>\n",
       "    <tr style=\"text-align: right;\">\n",
       "      <th></th>\n",
       "      <th>response_id</th>\n",
       "      <th>class</th>\n",
       "      <th>response_text</th>\n",
       "      <th>Unnamed: 3</th>\n",
       "      <th>Unnamed: 4</th>\n",
       "      <th>Unnamed: 5</th>\n",
       "      <th>Unnamed: 6</th>\n",
       "      <th>Unnamed: 7</th>\n",
       "      <th>class_mapped</th>\n",
       "    </tr>\n",
       "  </thead>\n",
       "  <tbody>\n",
       "    <tr>\n",
       "      <th>0</th>\n",
       "      <td>response_1</td>\n",
       "      <td>not_flagged</td>\n",
       "      <td>I try and avoid this sort of conflict</td>\n",
       "      <td>NaN</td>\n",
       "      <td>NaN</td>\n",
       "      <td>NaN</td>\n",
       "      <td>NaN</td>\n",
       "      <td>NaN</td>\n",
       "      <td>0</td>\n",
       "    </tr>\n",
       "    <tr>\n",
       "      <th>1</th>\n",
       "      <td>response_2</td>\n",
       "      <td>flagged</td>\n",
       "      <td>Had a friend open up to me about his mental ad...</td>\n",
       "      <td>NaN</td>\n",
       "      <td>NaN</td>\n",
       "      <td>NaN</td>\n",
       "      <td>NaN</td>\n",
       "      <td>NaN</td>\n",
       "      <td>1</td>\n",
       "    </tr>\n",
       "    <tr>\n",
       "      <th>2</th>\n",
       "      <td>response_3</td>\n",
       "      <td>flagged</td>\n",
       "      <td>I saved a girl from suicide once. She was goin...</td>\n",
       "      <td>NaN</td>\n",
       "      <td>NaN</td>\n",
       "      <td>NaN</td>\n",
       "      <td>NaN</td>\n",
       "      <td>NaN</td>\n",
       "      <td>1</td>\n",
       "    </tr>\n",
       "    <tr>\n",
       "      <th>3</th>\n",
       "      <td>response_4</td>\n",
       "      <td>not_flagged</td>\n",
       "      <td>i cant think of one really...i think i may hav...</td>\n",
       "      <td>NaN</td>\n",
       "      <td>NaN</td>\n",
       "      <td>NaN</td>\n",
       "      <td>NaN</td>\n",
       "      <td>NaN</td>\n",
       "      <td>0</td>\n",
       "    </tr>\n",
       "    <tr>\n",
       "      <th>4</th>\n",
       "      <td>response_5</td>\n",
       "      <td>not_flagged</td>\n",
       "      <td>Only really one friend who doesn't fit into th...</td>\n",
       "      <td></td>\n",
       "      <td>NaN</td>\n",
       "      <td>NaN</td>\n",
       "      <td>NaN</td>\n",
       "      <td>NaN</td>\n",
       "      <td>0</td>\n",
       "    </tr>\n",
       "  </tbody>\n",
       "</table>\n",
       "</div>"
      ],
      "text/plain": [
       "  response_id        class                                      response_text  \\\n",
       "0  response_1  not_flagged              I try and avoid this sort of conflict   \n",
       "1  response_2      flagged  Had a friend open up to me about his mental ad...   \n",
       "2  response_3      flagged  I saved a girl from suicide once. She was goin...   \n",
       "3  response_4  not_flagged  i cant think of one really...i think i may hav...   \n",
       "4  response_5  not_flagged  Only really one friend who doesn't fit into th...   \n",
       "\n",
       "  Unnamed: 3  Unnamed: 4 Unnamed: 5  Unnamed: 6 Unnamed: 7  class_mapped  \n",
       "0        NaN         NaN        NaN         NaN        NaN             0  \n",
       "1        NaN         NaN        NaN         NaN        NaN             1  \n",
       "2        NaN         NaN        NaN         NaN        NaN             1  \n",
       "3        NaN         NaN        NaN         NaN        NaN             0  \n",
       "4                    NaN        NaN         NaN        NaN             0  "
      ]
     },
     "execution_count": 17,
     "metadata": {},
     "output_type": "execute_result"
    }
   ],
   "source": [
    "data.head()"
   ]
  },
  {
   "cell_type": "code",
   "execution_count": 18,
   "id": "45da8eef",
   "metadata": {},
   "outputs": [],
   "source": [
    "data_negative=data[data[\"class_mapped\"]==0]"
   ]
  },
  {
   "cell_type": "code",
   "execution_count": 19,
   "id": "1f4d8c57",
   "metadata": {},
   "outputs": [],
   "source": [
    "x_negative=data_negative[\"response_text\"]"
   ]
  },
  {
   "cell_type": "code",
   "execution_count": 20,
   "id": "e6e0439c",
   "metadata": {},
   "outputs": [],
   "source": [
    "data_positive=data[data[\"class_mapped\"]==1]"
   ]
  },
  {
   "cell_type": "code",
   "execution_count": 21,
   "id": "ce63931b",
   "metadata": {},
   "outputs": [],
   "source": [
    "x_positive=data_positive[\"response_text\"]"
   ]
  },
  {
   "cell_type": "code",
   "execution_count": 22,
   "id": "e8159ae1",
   "metadata": {},
   "outputs": [],
   "source": [
    "y_negative=data_negative[\"class_mapped\"]"
   ]
  },
  {
   "cell_type": "code",
   "execution_count": 23,
   "id": "b9d97691",
   "metadata": {},
   "outputs": [],
   "source": [
    "y_positive=data_positive[\"class_mapped\"]"
   ]
  },
  {
   "cell_type": "code",
   "execution_count": 24,
   "id": "d45fb60e",
   "metadata": {},
   "outputs": [
    {
     "data": {
      "text/plain": [
       "0     0\n",
       "3     0\n",
       "4     0\n",
       "5     0\n",
       "8     0\n",
       "10    0\n",
       "12    0\n",
       "13    0\n",
       "14    0\n",
       "16    0\n",
       "17    0\n",
       "18    0\n",
       "19    0\n",
       "20    0\n",
       "23    0\n",
       "24    0\n",
       "27    0\n",
       "29    0\n",
       "30    0\n",
       "31    0\n",
       "32    0\n",
       "33    0\n",
       "34    0\n",
       "35    0\n",
       "37    0\n",
       "39    0\n",
       "41    0\n",
       "42    0\n",
       "43    0\n",
       "44    0\n",
       "45    0\n",
       "46    0\n",
       "47    0\n",
       "49    0\n",
       "50    0\n",
       "52    0\n",
       "53    0\n",
       "54    0\n",
       "55    0\n",
       "56    0\n",
       "58    0\n",
       "60    0\n",
       "62    0\n",
       "63    0\n",
       "65    0\n",
       "66    0\n",
       "67    0\n",
       "68    0\n",
       "69    0\n",
       "70    0\n",
       "71    0\n",
       "73    0\n",
       "75    0\n",
       "77    0\n",
       "79    0\n",
       "Name: class_mapped, dtype: int64"
      ]
     },
     "execution_count": 24,
     "metadata": {},
     "output_type": "execute_result"
    }
   ],
   "source": [
    "y_negative"
   ]
  },
  {
   "cell_type": "code",
   "execution_count": 25,
   "id": "64468237",
   "metadata": {},
   "outputs": [
    {
     "data": {
      "text/plain": [
       "1     1\n",
       "2     1\n",
       "6     1\n",
       "7     1\n",
       "9     1\n",
       "11    1\n",
       "15    1\n",
       "21    1\n",
       "22    1\n",
       "25    1\n",
       "26    1\n",
       "28    1\n",
       "36    1\n",
       "38    1\n",
       "40    1\n",
       "48    1\n",
       "51    1\n",
       "57    1\n",
       "59    1\n",
       "61    1\n",
       "64    1\n",
       "72    1\n",
       "74    1\n",
       "76    1\n",
       "78    1\n",
       "Name: class_mapped, dtype: int64"
      ]
     },
     "execution_count": 25,
     "metadata": {},
     "output_type": "execute_result"
    }
   ],
   "source": [
    "y_positive"
   ]
  },
  {
   "cell_type": "code",
   "execution_count": 26,
   "id": "54bbad1e",
   "metadata": {},
   "outputs": [
    {
     "data": {
      "text/plain": [
       "0                 I try and avoid this sort of conflict\n",
       "3     i cant think of one really...i think i may hav...\n",
       "4     Only really one friend who doesn't fit into th...\n",
       "5     a couple of years ago my friends was going to ...\n",
       "8     Listened to someone talk about relationship tr...\n",
       "10    Took a week off work, packed up the car and pi...\n",
       "12              Anxious girlfriend always needs my help\n",
       "13                                                Never\n",
       "14                                         You as a mom\n",
       "16    I have helped advise friends who have faced ci...\n",
       "17                       I've helped friends out before\n",
       "18    A friend that is a girl and just talk to her t...\n",
       "19    expressing concern and openness to friends whe...\n",
       "20                   listening to girlfriend's problems\n",
       "23    Sometimes my friends bring up issues they are ...\n",
       "24    never i guess people dont see me as a guy they...\n",
       "27    i listen pretty damn well. better at that as a...\n",
       "29    I used to tutor homeless men at a shelter to h...\n",
       "30       I am a high school teacher so almost everyday.\n",
       "31    Friends often come to me to talk about the iss...\n",
       "32    Summer camp, countless kids have the same issu...\n",
       "33    Haha. In eight grade, kid got rejected twice. ...\n",
       "34    Don't have a specific example but just letting...\n",
       "35    Some of my friends have gone through the same ...\n",
       "37    I've always been a good listener for people an...\n",
       "39    I don't think I'm qualified to be a serious re...\n",
       "41    A lot for my friends. When they have had girl ...\n",
       "42    I'm the theripist of my friends, they always c...\n",
       "43                                     Describe?    Nah\n",
       "44    My brother went through the same struggles I d...\n",
       "45    Friend got dumped by girl he had been in a rel...\n",
       "46    I open myself to any friend in need of emotion...\n",
       "47    GF and I help her through a lot of shit becaus...\n",
       "49    Sometimes I'll calm my friends down after bad ...\n",
       "50    I once acted as a resource for someone who was...\n",
       "52    I have talked though some major blows in my gi...\n",
       "53                 Talking to a friend over a break up.\n",
       "54    I care about other people more than myself so ...\n",
       "55    Over the internet a LOT of people write to me ...\n",
       "56    Friends sometimes come up to me and ask for ad...\n",
       "58    Simply being there as a friend for somebody wh...\n",
       "60    People calling, talk some sense into them, may...\n",
       "62            Have worked through problems with friends\n",
       "63    When my friend needed help when she was going ...\n",
       "65                        Helped friends through stuff.\n",
       "66    I helped encourage a friend to go to therapy, ...\n",
       "67    I haven't really met anyone dealing with atten...\n",
       "68    there are too many to remember specifically, b...\n",
       "69    one of my friends was feeling down, so he came...\n",
       "70                                               never.\n",
       "71    I have tried but am absolutely horrable at it ...\n",
       "73    Always. I don't judge people to much, and can ...\n",
       "75    Now that I've been through it, although i'm no...\n",
       "77    As a camp counselor I provide stability in kid...\n",
       "79    The one person I ever talked to it was because...\n",
       "Name: response_text, dtype: object"
      ]
     },
     "execution_count": 26,
     "metadata": {},
     "output_type": "execute_result"
    }
   ],
   "source": [
    "x_negative"
   ]
  },
  {
   "cell_type": "code",
   "execution_count": 27,
   "id": "1eec9ced",
   "metadata": {},
   "outputs": [
    {
     "data": {
      "text/plain": [
       "1     Had a friend open up to me about his mental ad...\n",
       "2     I saved a girl from suicide once. She was goin...\n",
       "6     Roommate when he was going through death and l...\n",
       "7     i've had a couple of friends (you could say mo...\n",
       "9     I will always listen. I comforted my sister wh...\n",
       "11    On the memorial anniversary of my friends fath...\n",
       "15    ex gf was a cutter/suicidal, got her out of he...\n",
       "21    Friend was thinking about suicide, after a few...\n",
       "22    Having gone through depression and anxiety mys...\n",
       "25    Last year, my best friend was diagnosed with a...\n",
       "26    Cleaning up my friend's campsite and slightly ...\n",
       "28    Helping a friend through dealing with his alco...\n",
       "36    Friend who had big addiction issues, ended up ...\n",
       "38    One of my best friends was diagnosed with canc...\n",
       "40    Many times for my one friend who tried hard dr...\n",
       "48    I had a friend that would go off about girls a...\n",
       "51    My friend was going through a period of intens...\n",
       "57    My friend dealt with anxiety and this desire f...\n",
       "59    I've had some friends come to me saying people...\n",
       "61    Having self harmed in the past,  I shared my e...\n",
       "64    My sister has some pretty severe issues  with ...\n",
       "72    Ex girlfriend had depression and anxiety. I us...\n",
       "74    My grandmother went through some severe depres...\n",
       "76    when my best friends mom past away from od'ing...\n",
       "78    My now girlfriend used to have serious addicti...\n",
       "Name: response_text, dtype: object"
      ]
     },
     "execution_count": 27,
     "metadata": {},
     "output_type": "execute_result"
    }
   ],
   "source": [
    "x_positive"
   ]
  },
  {
   "cell_type": "code",
   "execution_count": 28,
   "id": "f40598c3",
   "metadata": {},
   "outputs": [],
   "source": [
    "ros = RandomOverSampler(sampling_strategy='minority', random_state=42)\n",
    "rus = RandomUnderSampler(sampling_strategy='majority', random_state=42)"
   ]
  },
  {
   "cell_type": "code",
   "execution_count": 29,
   "id": "a69fecf5",
   "metadata": {},
   "outputs": [],
   "source": [
    "y_positive = y_positive.values.reshape(-1, 1)\n",
    "y_negative = y_negative.values.reshape(-1, 1)"
   ]
  },
  {
   "cell_type": "code",
   "execution_count": 30,
   "id": "08453a29",
   "metadata": {},
   "outputs": [],
   "source": [
    "x_positive = x_positive.values.reshape(-1, 1) if len(x_positive.shape) == 1 else x_positive\n",
    "x_negative = x_negative.values.reshape(-1, 1) if len(x_negative.shape) == 1 else x_negative"
   ]
  },
  {
   "cell_type": "code",
   "execution_count": null,
   "id": "c1c17437",
   "metadata": {},
   "outputs": [],
   "source": [
    "\n"
   ]
  },
  {
   "cell_type": "code",
   "execution_count": 31,
   "id": "5b142014",
   "metadata": {},
   "outputs": [],
   "source": [
    "import nlpaug.augmenter.word as naw\n",
    "def augment_text(sentences):\n",
    "    aug = naw.SynonymAug(aug_src='wordnet')\n",
    "    augmented_sentences = [aug.augment(sentence) for sentence in sentences]\n",
    "    return augmented_sentences\n",
    "\n",
    "augmented_positive_sentences = augment_text(x_positive.ravel())"
   ]
  },
  {
   "cell_type": "code",
   "execution_count": 32,
   "id": "c4ace9d0",
   "metadata": {},
   "outputs": [],
   "source": [
    "augmented_negative_sentences = augment_text(x_negative.ravel())"
   ]
  },
  {
   "cell_type": "code",
   "execution_count": 33,
   "id": "4fdfb92f",
   "metadata": {},
   "outputs": [],
   "source": [
    "X_resampled = np.concatenate((augmented_positive_sentences, augmented_negative_sentences), axis=0)\n",
    "y_resampled = np.concatenate((y_positive, y_negative), axis=0)\n"
   ]
  },
  {
   "cell_type": "code",
   "execution_count": 34,
   "id": "b0454fb9",
   "metadata": {},
   "outputs": [],
   "source": [
    "from sklearn.utils import shuffle\n",
    "X_resampled, y_resampled = shuffle(X_resampled, y_resampled, random_state=42)"
   ]
  },
  {
   "cell_type": "code",
   "execution_count": 35,
   "id": "ebaacbb8",
   "metadata": {},
   "outputs": [
    {
     "name": "stdout",
     "output_type": "stream",
     "text": [
      "Requirement already satisfied: nlpaug in c:\\programdata\\anaconda3\\lib\\site-packages (1.1.11)\n",
      "Requirement already satisfied: gdown>=4.0.0 in c:\\programdata\\anaconda3\\lib\\site-packages (from nlpaug) (4.7.1)\n",
      "Requirement already satisfied: pandas>=1.2.0 in c:\\programdata\\anaconda3\\lib\\site-packages (from nlpaug) (1.5.2)\n",
      "Requirement already satisfied: numpy>=1.16.2 in c:\\programdata\\anaconda3\\lib\\site-packages (from nlpaug) (1.23.5)\n",
      "Requirement already satisfied: requests>=2.22.0 in c:\\programdata\\anaconda3\\lib\\site-packages (from nlpaug) (2.28.1)\n",
      "Requirement already satisfied: tqdm in c:\\programdata\\anaconda3\\lib\\site-packages (from gdown>=4.0.0->nlpaug) (4.64.1)\n",
      "Requirement already satisfied: beautifulsoup4 in c:\\programdata\\anaconda3\\lib\\site-packages (from gdown>=4.0.0->nlpaug) (4.11.1)\n",
      "Requirement already satisfied: filelock in c:\\programdata\\anaconda3\\lib\\site-packages (from gdown>=4.0.0->nlpaug) (3.6.0)\n",
      "Requirement already satisfied: six in c:\\programdata\\anaconda3\\lib\\site-packages (from gdown>=4.0.0->nlpaug) (1.16.0)\n",
      "Requirement already satisfied: pytz>=2020.1 in c:\\programdata\\anaconda3\\lib\\site-packages (from pandas>=1.2.0->nlpaug) (2022.1)\n",
      "Requirement already satisfied: python-dateutil>=2.8.1 in c:\\programdata\\anaconda3\\lib\\site-packages (from pandas>=1.2.0->nlpaug) (2.8.2)\n",
      "Requirement already satisfied: urllib3<1.27,>=1.21.1 in c:\\programdata\\anaconda3\\lib\\site-packages (from requests>=2.22.0->nlpaug) (1.26.11)\n",
      "Requirement already satisfied: certifi>=2017.4.17 in c:\\programdata\\anaconda3\\lib\\site-packages (from requests>=2.22.0->nlpaug) (2023.7.22)\n",
      "Requirement already satisfied: charset-normalizer<3,>=2 in c:\\programdata\\anaconda3\\lib\\site-packages (from requests>=2.22.0->nlpaug) (2.0.4)\n",
      "Requirement already satisfied: idna<4,>=2.5 in c:\\programdata\\anaconda3\\lib\\site-packages (from requests>=2.22.0->nlpaug) (3.3)\n",
      "Requirement already satisfied: soupsieve>1.2 in c:\\programdata\\anaconda3\\lib\\site-packages (from beautifulsoup4->gdown>=4.0.0->nlpaug) (2.3.1)\n",
      "Requirement already satisfied: PySocks!=1.5.7,>=1.5.6 in c:\\programdata\\anaconda3\\lib\\site-packages (from requests>=2.22.0->nlpaug) (1.7.1)\n",
      "Requirement already satisfied: colorama in c:\\programdata\\anaconda3\\lib\\site-packages (from tqdm->gdown>=4.0.0->nlpaug) (0.4.6)\n",
      "Note: you may need to restart the kernel to use updated packages.\n"
     ]
    }
   ],
   "source": [
    "pip install nlpaug"
   ]
  },
  {
   "cell_type": "markdown",
   "id": "fba1e9a1",
   "metadata": {},
   "source": [
    "## creating resampling data\n"
   ]
  },
  {
   "cell_type": "code",
   "execution_count": null,
   "id": "2f004afa",
   "metadata": {},
   "outputs": [],
   "source": []
  },
  {
   "cell_type": "code",
   "execution_count": 36,
   "id": "cc2a1bd6",
   "metadata": {},
   "outputs": [],
   "source": [
    "x_resampled=pd.DataFrame(X_resampled)"
   ]
  },
  {
   "cell_type": "code",
   "execution_count": 37,
   "id": "0b6bb62f",
   "metadata": {},
   "outputs": [],
   "source": [
    "y_resampled=pd.DataFrame(y_resampled)"
   ]
  },
  {
   "cell_type": "code",
   "execution_count": 38,
   "id": "6103f7ab",
   "metadata": {},
   "outputs": [
    {
     "data": {
      "text/plain": [
       "(80, 1)"
      ]
     },
     "execution_count": 38,
     "metadata": {},
     "output_type": "execute_result"
    }
   ],
   "source": [
    "x_resampled.shape"
   ]
  },
  {
   "cell_type": "code",
   "execution_count": 39,
   "id": "1cd239fa",
   "metadata": {},
   "outputs": [
    {
     "data": {
      "text/plain": [
       "(80, 1)"
      ]
     },
     "execution_count": 39,
     "metadata": {},
     "output_type": "execute_result"
    }
   ],
   "source": [
    "y_resampled.shape"
   ]
  },
  {
   "cell_type": "code",
   "execution_count": 40,
   "id": "26289baa",
   "metadata": {},
   "outputs": [
    {
     "data": {
      "text/html": [
       "<div>\n",
       "<style scoped>\n",
       "    .dataframe tbody tr th:only-of-type {\n",
       "        vertical-align: middle;\n",
       "    }\n",
       "\n",
       "    .dataframe tbody tr th {\n",
       "        vertical-align: top;\n",
       "    }\n",
       "\n",
       "    .dataframe thead th {\n",
       "        text-align: right;\n",
       "    }\n",
       "</style>\n",
       "<table border=\"1\" class=\"dataframe\">\n",
       "  <thead>\n",
       "    <tr style=\"text-align: right;\">\n",
       "      <th></th>\n",
       "      <th>0</th>\n",
       "    </tr>\n",
       "  </thead>\n",
       "  <tbody>\n",
       "    <tr>\n",
       "      <th>0</th>\n",
       "      <td>0</td>\n",
       "    </tr>\n",
       "    <tr>\n",
       "      <th>1</th>\n",
       "      <td>1</td>\n",
       "    </tr>\n",
       "    <tr>\n",
       "      <th>2</th>\n",
       "      <td>1</td>\n",
       "    </tr>\n",
       "    <tr>\n",
       "      <th>3</th>\n",
       "      <td>0</td>\n",
       "    </tr>\n",
       "    <tr>\n",
       "      <th>4</th>\n",
       "      <td>1</td>\n",
       "    </tr>\n",
       "    <tr>\n",
       "      <th>...</th>\n",
       "      <td>...</td>\n",
       "    </tr>\n",
       "    <tr>\n",
       "      <th>75</th>\n",
       "      <td>1</td>\n",
       "    </tr>\n",
       "    <tr>\n",
       "      <th>76</th>\n",
       "      <td>0</td>\n",
       "    </tr>\n",
       "    <tr>\n",
       "      <th>77</th>\n",
       "      <td>0</td>\n",
       "    </tr>\n",
       "    <tr>\n",
       "      <th>78</th>\n",
       "      <td>1</td>\n",
       "    </tr>\n",
       "    <tr>\n",
       "      <th>79</th>\n",
       "      <td>0</td>\n",
       "    </tr>\n",
       "  </tbody>\n",
       "</table>\n",
       "<p>80 rows × 1 columns</p>\n",
       "</div>"
      ],
      "text/plain": [
       "    0\n",
       "0   0\n",
       "1   1\n",
       "2   1\n",
       "3   0\n",
       "4   1\n",
       ".. ..\n",
       "75  1\n",
       "76  0\n",
       "77  0\n",
       "78  1\n",
       "79  0\n",
       "\n",
       "[80 rows x 1 columns]"
      ]
     },
     "execution_count": 40,
     "metadata": {},
     "output_type": "execute_result"
    }
   ],
   "source": [
    "y_resampled"
   ]
  },
  {
   "cell_type": "code",
   "execution_count": 41,
   "id": "199a72c8",
   "metadata": {},
   "outputs": [
    {
     "data": {
      "text/html": [
       "<div>\n",
       "<style scoped>\n",
       "    .dataframe tbody tr th:only-of-type {\n",
       "        vertical-align: middle;\n",
       "    }\n",
       "\n",
       "    .dataframe tbody tr th {\n",
       "        vertical-align: top;\n",
       "    }\n",
       "\n",
       "    .dataframe thead th {\n",
       "        text-align: right;\n",
       "    }\n",
       "</style>\n",
       "<table border=\"1\" class=\"dataframe\">\n",
       "  <thead>\n",
       "    <tr style=\"text-align: right;\">\n",
       "      <th></th>\n",
       "      <th>0</th>\n",
       "    </tr>\n",
       "  </thead>\n",
       "  <tbody>\n",
       "    <tr>\n",
       "      <th>0</th>\n",
       "      <td>Accept a calendar week cancelled oeuvre, packe...</td>\n",
       "    </tr>\n",
       "    <tr>\n",
       "      <th>1</th>\n",
       "      <td>Get a supporter open upward to maine astir his...</td>\n",
       "    </tr>\n",
       "    <tr>\n",
       "      <th>2</th>\n",
       "      <td>My grandmother went through some severe depres...</td>\n",
       "    </tr>\n",
       "    <tr>\n",
       "      <th>3</th>\n",
       "      <td>Anxious girlfriend always demand my help</td>\n",
       "    </tr>\n",
       "    <tr>\n",
       "      <th>4</th>\n",
       "      <td>Atomic number 53 ' ve had some friends follow ...</td>\n",
       "    </tr>\n",
       "    <tr>\n",
       "      <th>...</th>\n",
       "      <td>...</td>\n",
       "    </tr>\n",
       "    <tr>\n",
       "      <th>75</th>\n",
       "      <td>My sister has some pretty severe issues with h...</td>\n",
       "    </tr>\n",
       "    <tr>\n",
       "      <th>76</th>\n",
       "      <td>I have talked though some major blows in my gi...</td>\n",
       "    </tr>\n",
       "    <tr>\n",
       "      <th>77</th>\n",
       "      <td>I haven ' t really met anyone dealing with att...</td>\n",
       "    </tr>\n",
       "    <tr>\n",
       "      <th>78</th>\n",
       "      <td>Many meter for my one quaker world health orga...</td>\n",
       "    </tr>\n",
       "    <tr>\n",
       "      <th>79</th>\n",
       "      <td>A lot for my friends. When they have had girl ...</td>\n",
       "    </tr>\n",
       "  </tbody>\n",
       "</table>\n",
       "<p>80 rows × 1 columns</p>\n",
       "</div>"
      ],
      "text/plain": [
       "                                                    0\n",
       "0   Accept a calendar week cancelled oeuvre, packe...\n",
       "1   Get a supporter open upward to maine astir his...\n",
       "2   My grandmother went through some severe depres...\n",
       "3            Anxious girlfriend always demand my help\n",
       "4   Atomic number 53 ' ve had some friends follow ...\n",
       "..                                                ...\n",
       "75  My sister has some pretty severe issues with h...\n",
       "76  I have talked though some major blows in my gi...\n",
       "77  I haven ' t really met anyone dealing with att...\n",
       "78  Many meter for my one quaker world health orga...\n",
       "79  A lot for my friends. When they have had girl ...\n",
       "\n",
       "[80 rows x 1 columns]"
      ]
     },
     "execution_count": 41,
     "metadata": {},
     "output_type": "execute_result"
    }
   ],
   "source": [
    "x_resampled"
   ]
  },
  {
   "cell_type": "code",
   "execution_count": 42,
   "id": "420f31e9",
   "metadata": {},
   "outputs": [],
   "source": [
    "x_resampled[\"response\"]=x_resampled[0]"
   ]
  },
  {
   "cell_type": "code",
   "execution_count": 43,
   "id": "edc82eeb",
   "metadata": {},
   "outputs": [
    {
     "data": {
      "text/html": [
       "<div>\n",
       "<style scoped>\n",
       "    .dataframe tbody tr th:only-of-type {\n",
       "        vertical-align: middle;\n",
       "    }\n",
       "\n",
       "    .dataframe tbody tr th {\n",
       "        vertical-align: top;\n",
       "    }\n",
       "\n",
       "    .dataframe thead th {\n",
       "        text-align: right;\n",
       "    }\n",
       "</style>\n",
       "<table border=\"1\" class=\"dataframe\">\n",
       "  <thead>\n",
       "    <tr style=\"text-align: right;\">\n",
       "      <th></th>\n",
       "      <th>0</th>\n",
       "      <th>response</th>\n",
       "    </tr>\n",
       "  </thead>\n",
       "  <tbody>\n",
       "    <tr>\n",
       "      <th>0</th>\n",
       "      <td>Accept a calendar week cancelled oeuvre, packe...</td>\n",
       "      <td>Accept a calendar week cancelled oeuvre, packe...</td>\n",
       "    </tr>\n",
       "    <tr>\n",
       "      <th>1</th>\n",
       "      <td>Get a supporter open upward to maine astir his...</td>\n",
       "      <td>Get a supporter open upward to maine astir his...</td>\n",
       "    </tr>\n",
       "    <tr>\n",
       "      <th>2</th>\n",
       "      <td>My grandmother went through some severe depres...</td>\n",
       "      <td>My grandmother went through some severe depres...</td>\n",
       "    </tr>\n",
       "    <tr>\n",
       "      <th>3</th>\n",
       "      <td>Anxious girlfriend always demand my help</td>\n",
       "      <td>Anxious girlfriend always demand my help</td>\n",
       "    </tr>\n",
       "    <tr>\n",
       "      <th>4</th>\n",
       "      <td>Atomic number 53 ' ve had some friends follow ...</td>\n",
       "      <td>Atomic number 53 ' ve had some friends follow ...</td>\n",
       "    </tr>\n",
       "    <tr>\n",
       "      <th>...</th>\n",
       "      <td>...</td>\n",
       "      <td>...</td>\n",
       "    </tr>\n",
       "    <tr>\n",
       "      <th>75</th>\n",
       "      <td>My sister has some pretty severe issues with h...</td>\n",
       "      <td>My sister has some pretty severe issues with h...</td>\n",
       "    </tr>\n",
       "    <tr>\n",
       "      <th>76</th>\n",
       "      <td>I have talked though some major blows in my gi...</td>\n",
       "      <td>I have talked though some major blows in my gi...</td>\n",
       "    </tr>\n",
       "    <tr>\n",
       "      <th>77</th>\n",
       "      <td>I haven ' t really met anyone dealing with att...</td>\n",
       "      <td>I haven ' t really met anyone dealing with att...</td>\n",
       "    </tr>\n",
       "    <tr>\n",
       "      <th>78</th>\n",
       "      <td>Many meter for my one quaker world health orga...</td>\n",
       "      <td>Many meter for my one quaker world health orga...</td>\n",
       "    </tr>\n",
       "    <tr>\n",
       "      <th>79</th>\n",
       "      <td>A lot for my friends. When they have had girl ...</td>\n",
       "      <td>A lot for my friends. When they have had girl ...</td>\n",
       "    </tr>\n",
       "  </tbody>\n",
       "</table>\n",
       "<p>80 rows × 2 columns</p>\n",
       "</div>"
      ],
      "text/plain": [
       "                                                    0  \\\n",
       "0   Accept a calendar week cancelled oeuvre, packe...   \n",
       "1   Get a supporter open upward to maine astir his...   \n",
       "2   My grandmother went through some severe depres...   \n",
       "3            Anxious girlfriend always demand my help   \n",
       "4   Atomic number 53 ' ve had some friends follow ...   \n",
       "..                                                ...   \n",
       "75  My sister has some pretty severe issues with h...   \n",
       "76  I have talked though some major blows in my gi...   \n",
       "77  I haven ' t really met anyone dealing with att...   \n",
       "78  Many meter for my one quaker world health orga...   \n",
       "79  A lot for my friends. When they have had girl ...   \n",
       "\n",
       "                                             response  \n",
       "0   Accept a calendar week cancelled oeuvre, packe...  \n",
       "1   Get a supporter open upward to maine astir his...  \n",
       "2   My grandmother went through some severe depres...  \n",
       "3            Anxious girlfriend always demand my help  \n",
       "4   Atomic number 53 ' ve had some friends follow ...  \n",
       "..                                                ...  \n",
       "75  My sister has some pretty severe issues with h...  \n",
       "76  I have talked though some major blows in my gi...  \n",
       "77  I haven ' t really met anyone dealing with att...  \n",
       "78  Many meter for my one quaker world health orga...  \n",
       "79  A lot for my friends. When they have had girl ...  \n",
       "\n",
       "[80 rows x 2 columns]"
      ]
     },
     "execution_count": 43,
     "metadata": {},
     "output_type": "execute_result"
    }
   ],
   "source": [
    "\n",
    "x_resampled"
   ]
  },
  {
   "cell_type": "code",
   "execution_count": 44,
   "id": "f78a290e",
   "metadata": {},
   "outputs": [],
   "source": [
    "y_resampled[\"class\"]=y_resampled[0]"
   ]
  },
  {
   "cell_type": "code",
   "execution_count": 45,
   "id": "97ace7db",
   "metadata": {},
   "outputs": [],
   "source": [
    "y_resampled=y_resampled.drop([0],axis=1)"
   ]
  },
  {
   "cell_type": "code",
   "execution_count": 46,
   "id": "d2ba44d9",
   "metadata": {},
   "outputs": [
    {
     "data": {
      "text/html": [
       "<div>\n",
       "<style scoped>\n",
       "    .dataframe tbody tr th:only-of-type {\n",
       "        vertical-align: middle;\n",
       "    }\n",
       "\n",
       "    .dataframe tbody tr th {\n",
       "        vertical-align: top;\n",
       "    }\n",
       "\n",
       "    .dataframe thead th {\n",
       "        text-align: right;\n",
       "    }\n",
       "</style>\n",
       "<table border=\"1\" class=\"dataframe\">\n",
       "  <thead>\n",
       "    <tr style=\"text-align: right;\">\n",
       "      <th></th>\n",
       "      <th>class</th>\n",
       "    </tr>\n",
       "  </thead>\n",
       "  <tbody>\n",
       "    <tr>\n",
       "      <th>0</th>\n",
       "      <td>0</td>\n",
       "    </tr>\n",
       "    <tr>\n",
       "      <th>1</th>\n",
       "      <td>1</td>\n",
       "    </tr>\n",
       "    <tr>\n",
       "      <th>2</th>\n",
       "      <td>1</td>\n",
       "    </tr>\n",
       "    <tr>\n",
       "      <th>3</th>\n",
       "      <td>0</td>\n",
       "    </tr>\n",
       "    <tr>\n",
       "      <th>4</th>\n",
       "      <td>1</td>\n",
       "    </tr>\n",
       "    <tr>\n",
       "      <th>...</th>\n",
       "      <td>...</td>\n",
       "    </tr>\n",
       "    <tr>\n",
       "      <th>75</th>\n",
       "      <td>1</td>\n",
       "    </tr>\n",
       "    <tr>\n",
       "      <th>76</th>\n",
       "      <td>0</td>\n",
       "    </tr>\n",
       "    <tr>\n",
       "      <th>77</th>\n",
       "      <td>0</td>\n",
       "    </tr>\n",
       "    <tr>\n",
       "      <th>78</th>\n",
       "      <td>1</td>\n",
       "    </tr>\n",
       "    <tr>\n",
       "      <th>79</th>\n",
       "      <td>0</td>\n",
       "    </tr>\n",
       "  </tbody>\n",
       "</table>\n",
       "<p>80 rows × 1 columns</p>\n",
       "</div>"
      ],
      "text/plain": [
       "    class\n",
       "0       0\n",
       "1       1\n",
       "2       1\n",
       "3       0\n",
       "4       1\n",
       "..    ...\n",
       "75      1\n",
       "76      0\n",
       "77      0\n",
       "78      1\n",
       "79      0\n",
       "\n",
       "[80 rows x 1 columns]"
      ]
     },
     "execution_count": 46,
     "metadata": {},
     "output_type": "execute_result"
    }
   ],
   "source": [
    "y_resampled"
   ]
  },
  {
   "cell_type": "code",
   "execution_count": 47,
   "id": "9bbcad5a",
   "metadata": {},
   "outputs": [],
   "source": [
    "data_resampled=pd.concat([x_resampled,y_resampled],axis=1)"
   ]
  },
  {
   "cell_type": "code",
   "execution_count": 48,
   "id": "4e676855",
   "metadata": {},
   "outputs": [
    {
     "data": {
      "text/html": [
       "<div>\n",
       "<style scoped>\n",
       "    .dataframe tbody tr th:only-of-type {\n",
       "        vertical-align: middle;\n",
       "    }\n",
       "\n",
       "    .dataframe tbody tr th {\n",
       "        vertical-align: top;\n",
       "    }\n",
       "\n",
       "    .dataframe thead th {\n",
       "        text-align: right;\n",
       "    }\n",
       "</style>\n",
       "<table border=\"1\" class=\"dataframe\">\n",
       "  <thead>\n",
       "    <tr style=\"text-align: right;\">\n",
       "      <th></th>\n",
       "      <th>0</th>\n",
       "      <th>response</th>\n",
       "      <th>class</th>\n",
       "    </tr>\n",
       "  </thead>\n",
       "  <tbody>\n",
       "    <tr>\n",
       "      <th>0</th>\n",
       "      <td>Accept a calendar week cancelled oeuvre, packe...</td>\n",
       "      <td>Accept a calendar week cancelled oeuvre, packe...</td>\n",
       "      <td>0</td>\n",
       "    </tr>\n",
       "    <tr>\n",
       "      <th>1</th>\n",
       "      <td>Get a supporter open upward to maine astir his...</td>\n",
       "      <td>Get a supporter open upward to maine astir his...</td>\n",
       "      <td>1</td>\n",
       "    </tr>\n",
       "    <tr>\n",
       "      <th>2</th>\n",
       "      <td>My grandmother went through some severe depres...</td>\n",
       "      <td>My grandmother went through some severe depres...</td>\n",
       "      <td>1</td>\n",
       "    </tr>\n",
       "    <tr>\n",
       "      <th>3</th>\n",
       "      <td>Anxious girlfriend always demand my help</td>\n",
       "      <td>Anxious girlfriend always demand my help</td>\n",
       "      <td>0</td>\n",
       "    </tr>\n",
       "    <tr>\n",
       "      <th>4</th>\n",
       "      <td>Atomic number 53 ' ve had some friends follow ...</td>\n",
       "      <td>Atomic number 53 ' ve had some friends follow ...</td>\n",
       "      <td>1</td>\n",
       "    </tr>\n",
       "    <tr>\n",
       "      <th>...</th>\n",
       "      <td>...</td>\n",
       "      <td>...</td>\n",
       "      <td>...</td>\n",
       "    </tr>\n",
       "    <tr>\n",
       "      <th>75</th>\n",
       "      <td>My sister has some pretty severe issues with h...</td>\n",
       "      <td>My sister has some pretty severe issues with h...</td>\n",
       "      <td>1</td>\n",
       "    </tr>\n",
       "    <tr>\n",
       "      <th>76</th>\n",
       "      <td>I have talked though some major blows in my gi...</td>\n",
       "      <td>I have talked though some major blows in my gi...</td>\n",
       "      <td>0</td>\n",
       "    </tr>\n",
       "    <tr>\n",
       "      <th>77</th>\n",
       "      <td>I haven ' t really met anyone dealing with att...</td>\n",
       "      <td>I haven ' t really met anyone dealing with att...</td>\n",
       "      <td>0</td>\n",
       "    </tr>\n",
       "    <tr>\n",
       "      <th>78</th>\n",
       "      <td>Many meter for my one quaker world health orga...</td>\n",
       "      <td>Many meter for my one quaker world health orga...</td>\n",
       "      <td>1</td>\n",
       "    </tr>\n",
       "    <tr>\n",
       "      <th>79</th>\n",
       "      <td>A lot for my friends. When they have had girl ...</td>\n",
       "      <td>A lot for my friends. When they have had girl ...</td>\n",
       "      <td>0</td>\n",
       "    </tr>\n",
       "  </tbody>\n",
       "</table>\n",
       "<p>80 rows × 3 columns</p>\n",
       "</div>"
      ],
      "text/plain": [
       "                                                    0  \\\n",
       "0   Accept a calendar week cancelled oeuvre, packe...   \n",
       "1   Get a supporter open upward to maine astir his...   \n",
       "2   My grandmother went through some severe depres...   \n",
       "3            Anxious girlfriend always demand my help   \n",
       "4   Atomic number 53 ' ve had some friends follow ...   \n",
       "..                                                ...   \n",
       "75  My sister has some pretty severe issues with h...   \n",
       "76  I have talked though some major blows in my gi...   \n",
       "77  I haven ' t really met anyone dealing with att...   \n",
       "78  Many meter for my one quaker world health orga...   \n",
       "79  A lot for my friends. When they have had girl ...   \n",
       "\n",
       "                                             response  class  \n",
       "0   Accept a calendar week cancelled oeuvre, packe...      0  \n",
       "1   Get a supporter open upward to maine astir his...      1  \n",
       "2   My grandmother went through some severe depres...      1  \n",
       "3            Anxious girlfriend always demand my help      0  \n",
       "4   Atomic number 53 ' ve had some friends follow ...      1  \n",
       "..                                                ...    ...  \n",
       "75  My sister has some pretty severe issues with h...      1  \n",
       "76  I have talked though some major blows in my gi...      0  \n",
       "77  I haven ' t really met anyone dealing with att...      0  \n",
       "78  Many meter for my one quaker world health orga...      1  \n",
       "79  A lot for my friends. When they have had girl ...      0  \n",
       "\n",
       "[80 rows x 3 columns]"
      ]
     },
     "execution_count": 48,
     "metadata": {},
     "output_type": "execute_result"
    }
   ],
   "source": [
    "data_resampled"
   ]
  },
  {
   "cell_type": "code",
   "execution_count": 49,
   "id": "24f4f789",
   "metadata": {},
   "outputs": [
    {
     "name": "stdout",
     "output_type": "stream",
     "text": [
      "<class 'pandas.core.frame.DataFrame'>\n",
      "RangeIndex: 80 entries, 0 to 79\n",
      "Data columns (total 3 columns):\n",
      " #   Column    Non-Null Count  Dtype \n",
      "---  ------    --------------  ----- \n",
      " 0   0         80 non-null     object\n",
      " 1   response  80 non-null     object\n",
      " 2   class     80 non-null     int64 \n",
      "dtypes: int64(1), object(2)\n",
      "memory usage: 2.0+ KB\n"
     ]
    }
   ],
   "source": [
    "data_resampled.info()"
   ]
  },
  {
   "cell_type": "markdown",
   "id": "03db4000",
   "metadata": {},
   "source": [
    "## Pos Tagging"
   ]
  },
  {
   "cell_type": "code",
   "execution_count": 50,
   "id": "3e8d1ee0",
   "metadata": {},
   "outputs": [],
   "source": [
    "negative=data_resampled[data_resampled[\"class\"]==0]"
   ]
  },
  {
   "cell_type": "code",
   "execution_count": 51,
   "id": "b87b6920",
   "metadata": {},
   "outputs": [],
   "source": [
    "positive=data_resampled[data_resampled[\"class\"]==1]"
   ]
  },
  {
   "cell_type": "code",
   "execution_count": 52,
   "id": "0e44c967",
   "metadata": {},
   "outputs": [],
   "source": [
    "nlp=spacy.load(\"en_core_web_sm\")"
   ]
  },
  {
   "cell_type": "code",
   "execution_count": 53,
   "id": "47b1eca0",
   "metadata": {},
   "outputs": [],
   "source": [
    "negative_spacy_docs=list(nlp.pipe(negative[\"response\"]))"
   ]
  },
  {
   "cell_type": "code",
   "execution_count": 54,
   "id": "bd720237",
   "metadata": {},
   "outputs": [],
   "source": [
    "positive_spacy_docs=list(nlp.pipe(positive[\"response\"]))"
   ]
  },
  {
   "cell_type": "code",
   "execution_count": 55,
   "id": "84c8f496",
   "metadata": {},
   "outputs": [],
   "source": [
    "def extract_token_tags(doc:spacy.tokens.doc.Doc):\n",
    "    return [(i.text,i.ent_type_,i.pos_) for i in doc]"
   ]
  },
  {
   "cell_type": "code",
   "execution_count": 56,
   "id": "f553e334",
   "metadata": {},
   "outputs": [],
   "source": [
    "negative_tagsdf=[]\n",
    "columns=[\"token\",\"ner_tag\",\"pos_tag\"]"
   ]
  },
  {
   "cell_type": "code",
   "execution_count": 57,
   "id": "07185590",
   "metadata": {},
   "outputs": [],
   "source": [
    "for ix , doc in enumerate(negative_spacy_docs):\n",
    "    tags=extract_token_tags(doc)\n",
    "    tags=pd.DataFrame(tags)\n",
    "    tags.columns=columns\n",
    "    negative_tagsdf.append(tags)"
   ]
  },
  {
   "cell_type": "code",
   "execution_count": 58,
   "id": "36fcfde0",
   "metadata": {},
   "outputs": [],
   "source": [
    "negative_tagsdf=pd.concat(negative_tagsdf)"
   ]
  },
  {
   "cell_type": "code",
   "execution_count": 59,
   "id": "46c4b0b6",
   "metadata": {},
   "outputs": [
    {
     "data": {
      "text/html": [
       "<div>\n",
       "<style scoped>\n",
       "    .dataframe tbody tr th:only-of-type {\n",
       "        vertical-align: middle;\n",
       "    }\n",
       "\n",
       "    .dataframe tbody tr th {\n",
       "        vertical-align: top;\n",
       "    }\n",
       "\n",
       "    .dataframe thead th {\n",
       "        text-align: right;\n",
       "    }\n",
       "</style>\n",
       "<table border=\"1\" class=\"dataframe\">\n",
       "  <thead>\n",
       "    <tr style=\"text-align: right;\">\n",
       "      <th></th>\n",
       "      <th>token</th>\n",
       "      <th>ner_tag</th>\n",
       "      <th>pos_tag</th>\n",
       "    </tr>\n",
       "  </thead>\n",
       "  <tbody>\n",
       "    <tr>\n",
       "      <th>0</th>\n",
       "      <td>Accept</td>\n",
       "      <td></td>\n",
       "      <td>VERB</td>\n",
       "    </tr>\n",
       "    <tr>\n",
       "      <th>1</th>\n",
       "      <td>a</td>\n",
       "      <td></td>\n",
       "      <td>DET</td>\n",
       "    </tr>\n",
       "    <tr>\n",
       "      <th>2</th>\n",
       "      <td>calendar</td>\n",
       "      <td></td>\n",
       "      <td>NOUN</td>\n",
       "    </tr>\n",
       "    <tr>\n",
       "      <th>3</th>\n",
       "      <td>week</td>\n",
       "      <td></td>\n",
       "      <td>NOUN</td>\n",
       "    </tr>\n",
       "    <tr>\n",
       "      <th>4</th>\n",
       "      <td>cancelled</td>\n",
       "      <td></td>\n",
       "      <td>VERB</td>\n",
       "    </tr>\n",
       "    <tr>\n",
       "      <th>...</th>\n",
       "      <td>...</td>\n",
       "      <td>...</td>\n",
       "      <td>...</td>\n",
       "    </tr>\n",
       "    <tr>\n",
       "      <th>45</th>\n",
       "      <td>'</td>\n",
       "      <td></td>\n",
       "      <td>PART</td>\n",
       "    </tr>\n",
       "    <tr>\n",
       "      <th>46</th>\n",
       "      <td>lives</td>\n",
       "      <td></td>\n",
       "      <td>NOUN</td>\n",
       "    </tr>\n",
       "    <tr>\n",
       "      <th>47</th>\n",
       "      <td>as</td>\n",
       "      <td></td>\n",
       "      <td>ADV</td>\n",
       "    </tr>\n",
       "    <tr>\n",
       "      <th>48</th>\n",
       "      <td>advantageously</td>\n",
       "      <td></td>\n",
       "      <td>ADV</td>\n",
       "    </tr>\n",
       "    <tr>\n",
       "      <th>49</th>\n",
       "      <td>.</td>\n",
       "      <td></td>\n",
       "      <td>PUNCT</td>\n",
       "    </tr>\n",
       "  </tbody>\n",
       "</table>\n",
       "<p>1486 rows × 3 columns</p>\n",
       "</div>"
      ],
      "text/plain": [
       "             token ner_tag pos_tag\n",
       "0           Accept            VERB\n",
       "1                a             DET\n",
       "2         calendar            NOUN\n",
       "3             week            NOUN\n",
       "4        cancelled            VERB\n",
       "..             ...     ...     ...\n",
       "45               '            PART\n",
       "46           lives            NOUN\n",
       "47              as             ADV\n",
       "48  advantageously             ADV\n",
       "49               .           PUNCT\n",
       "\n",
       "[1486 rows x 3 columns]"
      ]
     },
     "execution_count": 59,
     "metadata": {},
     "output_type": "execute_result"
    }
   ],
   "source": [
    "negative_tagsdf"
   ]
  },
  {
   "cell_type": "code",
   "execution_count": 60,
   "id": "fb24c365",
   "metadata": {},
   "outputs": [],
   "source": [
    "positive_tagsdf=[]\n",
    "\n",
    "for ix , doc in enumerate(positive_spacy_docs):\n",
    "    tags=extract_token_tags(doc)\n",
    "    tags=pd.DataFrame(tags)\n",
    "    tags.columns=columns\n",
    "    positive_tagsdf.append(tags)"
   ]
  },
  {
   "cell_type": "code",
   "execution_count": 61,
   "id": "6fb87657",
   "metadata": {},
   "outputs": [],
   "source": [
    "positive_tagsdf=pd.concat(positive_tagsdf)"
   ]
  },
  {
   "cell_type": "code",
   "execution_count": 62,
   "id": "3536de65",
   "metadata": {},
   "outputs": [
    {
     "data": {
      "text/html": [
       "<div>\n",
       "<style scoped>\n",
       "    .dataframe tbody tr th:only-of-type {\n",
       "        vertical-align: middle;\n",
       "    }\n",
       "\n",
       "    .dataframe tbody tr th {\n",
       "        vertical-align: top;\n",
       "    }\n",
       "\n",
       "    .dataframe thead th {\n",
       "        text-align: right;\n",
       "    }\n",
       "</style>\n",
       "<table border=\"1\" class=\"dataframe\">\n",
       "  <thead>\n",
       "    <tr style=\"text-align: right;\">\n",
       "      <th></th>\n",
       "      <th>token</th>\n",
       "      <th>pos_tag</th>\n",
       "      <th>counts</th>\n",
       "    </tr>\n",
       "  </thead>\n",
       "  <tbody>\n",
       "    <tr>\n",
       "      <th>9</th>\n",
       "      <td>.</td>\n",
       "      <td>PUNCT</td>\n",
       "      <td>72</td>\n",
       "    </tr>\n",
       "    <tr>\n",
       "      <th>42</th>\n",
       "      <td>I</td>\n",
       "      <td>PRON</td>\n",
       "      <td>40</td>\n",
       "    </tr>\n",
       "    <tr>\n",
       "      <th>102</th>\n",
       "      <td>and</td>\n",
       "      <td>CCONJ</td>\n",
       "      <td>37</td>\n",
       "    </tr>\n",
       "    <tr>\n",
       "      <th>585</th>\n",
       "      <td>to</td>\n",
       "      <td>PART</td>\n",
       "      <td>32</td>\n",
       "    </tr>\n",
       "    <tr>\n",
       "      <th>78</th>\n",
       "      <td>a</td>\n",
       "      <td>DET</td>\n",
       "      <td>32</td>\n",
       "    </tr>\n",
       "    <tr>\n",
       "      <th>561</th>\n",
       "      <td>the</td>\n",
       "      <td>DET</td>\n",
       "      <td>25</td>\n",
       "    </tr>\n",
       "    <tr>\n",
       "      <th>419</th>\n",
       "      <td>of</td>\n",
       "      <td>ADP</td>\n",
       "      <td>24</td>\n",
       "    </tr>\n",
       "    <tr>\n",
       "      <th>583</th>\n",
       "      <td>to</td>\n",
       "      <td>ADP</td>\n",
       "      <td>24</td>\n",
       "    </tr>\n",
       "    <tr>\n",
       "      <th>8</th>\n",
       "      <td>,</td>\n",
       "      <td>PUNCT</td>\n",
       "      <td>24</td>\n",
       "    </tr>\n",
       "    <tr>\n",
       "      <th>3</th>\n",
       "      <td>'</td>\n",
       "      <td>PUNCT</td>\n",
       "      <td>18</td>\n",
       "    </tr>\n",
       "  </tbody>\n",
       "</table>\n",
       "</div>"
      ],
      "text/plain": [
       "    token pos_tag  counts\n",
       "9       .   PUNCT      72\n",
       "42      I    PRON      40\n",
       "102   and   CCONJ      37\n",
       "585    to    PART      32\n",
       "78      a     DET      32\n",
       "561   the     DET      25\n",
       "419    of     ADP      24\n",
       "583    to     ADP      24\n",
       "8       ,   PUNCT      24\n",
       "3       '   PUNCT      18"
      ]
     },
     "execution_count": 62,
     "metadata": {},
     "output_type": "execute_result"
    }
   ],
   "source": [
    "pos_counts_negative=negative_tagsdf.groupby([\"token\",\"pos_tag\"]).size().reset_index(name=\"counts\").sort_values(by=\"counts\",ascending=False)\n",
    "pos_counts_negative.head(10)"
   ]
  },
  {
   "cell_type": "code",
   "execution_count": 63,
   "id": "9321d030",
   "metadata": {},
   "outputs": [
    {
     "data": {
      "text/html": [
       "<div>\n",
       "<style scoped>\n",
       "    .dataframe tbody tr th:only-of-type {\n",
       "        vertical-align: middle;\n",
       "    }\n",
       "\n",
       "    .dataframe tbody tr th {\n",
       "        vertical-align: top;\n",
       "    }\n",
       "\n",
       "    .dataframe thead th {\n",
       "        text-align: right;\n",
       "    }\n",
       "</style>\n",
       "<table border=\"1\" class=\"dataframe\">\n",
       "  <thead>\n",
       "    <tr style=\"text-align: right;\">\n",
       "      <th></th>\n",
       "      <th>token</th>\n",
       "      <th>pos_tag</th>\n",
       "      <th>counts</th>\n",
       "    </tr>\n",
       "  </thead>\n",
       "  <tbody>\n",
       "    <tr>\n",
       "      <th>7</th>\n",
       "      <td>.</td>\n",
       "      <td>PUNCT</td>\n",
       "      <td>60</td>\n",
       "    </tr>\n",
       "    <tr>\n",
       "      <th>73</th>\n",
       "      <td>and</td>\n",
       "      <td>CCONJ</td>\n",
       "      <td>47</td>\n",
       "    </tr>\n",
       "    <tr>\n",
       "      <th>32</th>\n",
       "      <td>I</td>\n",
       "      <td>PRON</td>\n",
       "      <td>36</td>\n",
       "    </tr>\n",
       "    <tr>\n",
       "      <th>514</th>\n",
       "      <td>to</td>\n",
       "      <td>PART</td>\n",
       "      <td>33</td>\n",
       "    </tr>\n",
       "    <tr>\n",
       "      <th>250</th>\n",
       "      <td>her</td>\n",
       "      <td>PRON</td>\n",
       "      <td>32</td>\n",
       "    </tr>\n",
       "    <tr>\n",
       "      <th>52</th>\n",
       "      <td>a</td>\n",
       "      <td>DET</td>\n",
       "      <td>30</td>\n",
       "    </tr>\n",
       "    <tr>\n",
       "      <th>496</th>\n",
       "      <td>the</td>\n",
       "      <td>DET</td>\n",
       "      <td>25</td>\n",
       "    </tr>\n",
       "    <tr>\n",
       "      <th>545</th>\n",
       "      <td>was</td>\n",
       "      <td>AUX</td>\n",
       "      <td>24</td>\n",
       "    </tr>\n",
       "    <tr>\n",
       "      <th>363</th>\n",
       "      <td>of</td>\n",
       "      <td>ADP</td>\n",
       "      <td>22</td>\n",
       "    </tr>\n",
       "    <tr>\n",
       "      <th>556</th>\n",
       "      <td>with</td>\n",
       "      <td>ADP</td>\n",
       "      <td>20</td>\n",
       "    </tr>\n",
       "  </tbody>\n",
       "</table>\n",
       "</div>"
      ],
      "text/plain": [
       "    token pos_tag  counts\n",
       "7       .   PUNCT      60\n",
       "73    and   CCONJ      47\n",
       "32      I    PRON      36\n",
       "514    to    PART      33\n",
       "250   her    PRON      32\n",
       "52      a     DET      30\n",
       "496   the     DET      25\n",
       "545   was     AUX      24\n",
       "363    of     ADP      22\n",
       "556  with     ADP      20"
      ]
     },
     "execution_count": 63,
     "metadata": {},
     "output_type": "execute_result"
    }
   ],
   "source": [
    "pos_counts_positive=positive_tagsdf.groupby([\"token\",\"pos_tag\"]).size().reset_index(name=\"counts\").sort_values(by=\"counts\",ascending=False)\n",
    "pos_counts_positive.head(10)"
   ]
  },
  {
   "cell_type": "code",
   "execution_count": 64,
   "id": "40c587be",
   "metadata": {},
   "outputs": [
    {
     "data": {
      "text/plain": [
       "pos_tag\n",
       "NOUN     177\n",
       "VERB     155\n",
       "ADJ       73\n",
       "ADV       59\n",
       "PRON      42\n",
       "ADP       27\n",
       "AUX       27\n",
       "PROPN     25\n",
       "SCONJ     16\n",
       "DET       11\n",
       "PUNCT      9\n",
       "NUM        7\n",
       "CCONJ      5\n",
       "PART       5\n",
       "INTJ       4\n",
       "SYM        1\n",
       "Name: token, dtype: int64"
      ]
     },
     "execution_count": 64,
     "metadata": {},
     "output_type": "execute_result"
    }
   ],
   "source": [
    "pos_counts_negative.groupby(\"pos_tag\")[\"token\"].count().sort_values(ascending=False)"
   ]
  },
  {
   "cell_type": "code",
   "execution_count": 65,
   "id": "3af111f4",
   "metadata": {},
   "outputs": [
    {
     "data": {
      "text/plain": [
       "pos_tag\n",
       "NOUN     171\n",
       "VERB     144\n",
       "ADJ       61\n",
       "ADV       46\n",
       "PRON      34\n",
       "ADP       28\n",
       "AUX       21\n",
       "SCONJ     15\n",
       "PROPN     12\n",
       "DET       11\n",
       "NUM        6\n",
       "PUNCT      6\n",
       "CCONJ      5\n",
       "PART       4\n",
       "INTJ       1\n",
       "SYM        1\n",
       "Name: token, dtype: int64"
      ]
     },
     "execution_count": 65,
     "metadata": {},
     "output_type": "execute_result"
    }
   ],
   "source": [
    "pos_counts_positive.groupby(\"pos_tag\")[\"token\"].count().sort_values(ascending=False)"
   ]
  },
  {
   "cell_type": "code",
   "execution_count": 66,
   "id": "e1363767",
   "metadata": {},
   "outputs": [
    {
     "data": {
      "text/html": [
       "<div>\n",
       "<style scoped>\n",
       "    .dataframe tbody tr th:only-of-type {\n",
       "        vertical-align: middle;\n",
       "    }\n",
       "\n",
       "    .dataframe tbody tr th {\n",
       "        vertical-align: top;\n",
       "    }\n",
       "\n",
       "    .dataframe thead th {\n",
       "        text-align: right;\n",
       "    }\n",
       "</style>\n",
       "<table border=\"1\" class=\"dataframe\">\n",
       "  <thead>\n",
       "    <tr style=\"text-align: right;\">\n",
       "      <th></th>\n",
       "      <th>token</th>\n",
       "      <th>pos_tag</th>\n",
       "      <th>counts</th>\n",
       "    </tr>\n",
       "  </thead>\n",
       "  <tbody>\n",
       "    <tr>\n",
       "      <th>258</th>\n",
       "      <td>friends</td>\n",
       "      <td>NOUN</td>\n",
       "      <td>10</td>\n",
       "    </tr>\n",
       "    <tr>\n",
       "      <th>257</th>\n",
       "      <td>friend</td>\n",
       "      <td>NOUN</td>\n",
       "      <td>9</td>\n",
       "    </tr>\n",
       "    <tr>\n",
       "      <th>445</th>\n",
       "      <td>people</td>\n",
       "      <td>NOUN</td>\n",
       "      <td>9</td>\n",
       "    </tr>\n",
       "    <tr>\n",
       "      <th>548</th>\n",
       "      <td>t</td>\n",
       "      <td>NOUN</td>\n",
       "      <td>6</td>\n",
       "    </tr>\n",
       "    <tr>\n",
       "      <th>554</th>\n",
       "      <td>technology</td>\n",
       "      <td>NOUN</td>\n",
       "      <td>6</td>\n",
       "    </tr>\n",
       "    <tr>\n",
       "      <th>...</th>\n",
       "      <td>...</td>\n",
       "      <td>...</td>\n",
       "      <td>...</td>\n",
       "    </tr>\n",
       "    <tr>\n",
       "      <th>244</th>\n",
       "      <td>feeling</td>\n",
       "      <td>NOUN</td>\n",
       "      <td>1</td>\n",
       "    </tr>\n",
       "    <tr>\n",
       "      <th>242</th>\n",
       "      <td>feel</td>\n",
       "      <td>NOUN</td>\n",
       "      <td>1</td>\n",
       "    </tr>\n",
       "    <tr>\n",
       "      <th>241</th>\n",
       "      <td>family</td>\n",
       "      <td>NOUN</td>\n",
       "      <td>1</td>\n",
       "    </tr>\n",
       "    <tr>\n",
       "      <th>234</th>\n",
       "      <td>extent</td>\n",
       "      <td>NOUN</td>\n",
       "      <td>1</td>\n",
       "    </tr>\n",
       "    <tr>\n",
       "      <th>229</th>\n",
       "      <td>example</td>\n",
       "      <td>NOUN</td>\n",
       "      <td>1</td>\n",
       "    </tr>\n",
       "  </tbody>\n",
       "</table>\n",
       "<p>177 rows × 3 columns</p>\n",
       "</div>"
      ],
      "text/plain": [
       "          token pos_tag  counts\n",
       "258     friends    NOUN      10\n",
       "257      friend    NOUN       9\n",
       "445      people    NOUN       9\n",
       "548           t    NOUN       6\n",
       "554  technology    NOUN       6\n",
       "..          ...     ...     ...\n",
       "244     feeling    NOUN       1\n",
       "242        feel    NOUN       1\n",
       "241      family    NOUN       1\n",
       "234      extent    NOUN       1\n",
       "229     example    NOUN       1\n",
       "\n",
       "[177 rows x 3 columns]"
      ]
     },
     "execution_count": 66,
     "metadata": {},
     "output_type": "execute_result"
    }
   ],
   "source": [
    "pos_counts_negative[pos_counts_negative[\"pos_tag\"]==\"NOUN\"]"
   ]
  },
  {
   "cell_type": "code",
   "execution_count": 67,
   "id": "eeb59e73",
   "metadata": {},
   "outputs": [
    {
     "data": {
      "text/html": [
       "<div>\n",
       "<style scoped>\n",
       "    .dataframe tbody tr th:only-of-type {\n",
       "        vertical-align: middle;\n",
       "    }\n",
       "\n",
       "    .dataframe tbody tr th {\n",
       "        vertical-align: top;\n",
       "    }\n",
       "\n",
       "    .dataframe thead th {\n",
       "        text-align: right;\n",
       "    }\n",
       "</style>\n",
       "<table border=\"1\" class=\"dataframe\">\n",
       "  <thead>\n",
       "    <tr style=\"text-align: right;\">\n",
       "      <th></th>\n",
       "      <th>token</th>\n",
       "      <th>pos_tag</th>\n",
       "      <th>counts</th>\n",
       "    </tr>\n",
       "  </thead>\n",
       "  <tbody>\n",
       "    <tr>\n",
       "      <th>211</th>\n",
       "      <td>friend</td>\n",
       "      <td>NOUN</td>\n",
       "      <td>10</td>\n",
       "    </tr>\n",
       "    <tr>\n",
       "      <th>388</th>\n",
       "      <td>people</td>\n",
       "      <td>NOUN</td>\n",
       "      <td>9</td>\n",
       "    </tr>\n",
       "    <tr>\n",
       "      <th>359</th>\n",
       "      <td>number</td>\n",
       "      <td>NOUN</td>\n",
       "      <td>8</td>\n",
       "    </tr>\n",
       "    <tr>\n",
       "      <th>212</th>\n",
       "      <td>friends</td>\n",
       "      <td>NOUN</td>\n",
       "      <td>7</td>\n",
       "    </tr>\n",
       "    <tr>\n",
       "      <th>156</th>\n",
       "      <td>depression</td>\n",
       "      <td>NOUN</td>\n",
       "      <td>6</td>\n",
       "    </tr>\n",
       "    <tr>\n",
       "      <th>...</th>\n",
       "      <td>...</td>\n",
       "      <td>...</td>\n",
       "      <td>...</td>\n",
       "    </tr>\n",
       "    <tr>\n",
       "      <th>321</th>\n",
       "      <td>maine</td>\n",
       "      <td>NOUN</td>\n",
       "      <td>1</td>\n",
       "    </tr>\n",
       "    <tr>\n",
       "      <th>309</th>\n",
       "      <td>listening</td>\n",
       "      <td>NOUN</td>\n",
       "      <td>1</td>\n",
       "    </tr>\n",
       "    <tr>\n",
       "      <th>307</th>\n",
       "      <td>lines</td>\n",
       "      <td>NOUN</td>\n",
       "      <td>1</td>\n",
       "    </tr>\n",
       "    <tr>\n",
       "      <th>304</th>\n",
       "      <td>light</td>\n",
       "      <td>NOUN</td>\n",
       "      <td>1</td>\n",
       "    </tr>\n",
       "    <tr>\n",
       "      <th>331</th>\n",
       "      <td>meter</td>\n",
       "      <td>NOUN</td>\n",
       "      <td>1</td>\n",
       "    </tr>\n",
       "  </tbody>\n",
       "</table>\n",
       "<p>171 rows × 3 columns</p>\n",
       "</div>"
      ],
      "text/plain": [
       "          token pos_tag  counts\n",
       "211      friend    NOUN      10\n",
       "388      people    NOUN       9\n",
       "359      number    NOUN       8\n",
       "212     friends    NOUN       7\n",
       "156  depression    NOUN       6\n",
       "..          ...     ...     ...\n",
       "321       maine    NOUN       1\n",
       "309   listening    NOUN       1\n",
       "307       lines    NOUN       1\n",
       "304       light    NOUN       1\n",
       "331       meter    NOUN       1\n",
       "\n",
       "[171 rows x 3 columns]"
      ]
     },
     "execution_count": 67,
     "metadata": {},
     "output_type": "execute_result"
    }
   ],
   "source": [
    "pos_counts_positive[pos_counts_positive[\"pos_tag\"]==\"NOUN\"]"
   ]
  },
  {
   "cell_type": "markdown",
   "id": "ecdcdfa0",
   "metadata": {},
   "source": [
    "## Name Entities"
   ]
  },
  {
   "cell_type": "code",
   "execution_count": 68,
   "id": "ecfe4951",
   "metadata": {},
   "outputs": [],
   "source": [
    "top_entities_neg=negative_tagsdf[negative_tagsdf[\"ner_tag\"]!= \"\"].groupby([\"token\",\"ner_tag\"]).size().reset_index(name=\"counts\").sort_values(by=\"counts\",ascending=False)\n"
   ]
  },
  {
   "cell_type": "code",
   "execution_count": 69,
   "id": "f1f87758",
   "metadata": {},
   "outputs": [],
   "source": [
    "top_entities_pos=positive_tagsdf[positive_tagsdf[\"ner_tag\"]!= \"\"].groupby([\"token\",\"ner_tag\"]).size().reset_index(name=\"counts\").sort_values(by=\"counts\",ascending=False)"
   ]
  },
  {
   "cell_type": "code",
   "execution_count": 70,
   "id": "1e6726c0",
   "metadata": {},
   "outputs": [],
   "source": [
    "ner_palette={\n",
    "    \n",
    "    \"ORG\":sns.color_palette(\"Set2\").as_hex()[0],\n",
    "    \"GPE\":sns.color_palette(\"Set2\").as_hex()[1],\n",
    "    \"NORP\":sns.color_palette(\"Set2\").as_hex()[2],\n",
    "    \"PERSON\":sns.color_palette(\"Set2\").as_hex()[3],\n",
    "    \"DATE\":sns.color_palette(\"Set2\").as_hex()[4],\n",
    "    \"CARDINAL\":sns.color_palette(\"Set2\").as_hex()[5],\n",
    "    \"PERCENT\":sns.color_palette(\"Set2\").as_hex()[6]\n",
    "}"
   ]
  },
  {
   "cell_type": "code",
   "execution_count": 71,
   "id": "17af302f",
   "metadata": {},
   "outputs": [
    {
     "data": {
      "text/plain": [
       "[Text(0.5, 1.0, 'MOST COMMON NAMED ENTITIES IN NOT Flagged class')]"
      ]
     },
     "execution_count": 71,
     "metadata": {},
     "output_type": "execute_result"
    },
    {
     "data": {
      "image/png": "[encoded data removed]",
      "text/plain": [
       "<Figure size 640x480 with 1 Axes>"
      ]
     },
     "metadata": {},
     "output_type": "display_data"
    }
   ],
   "source": [
    "sns.barplot(x=\"counts\",y=\"token\",hue=\"ner_tag\",palette=ner_palette,data=top_entities_neg[:10],\n",
    "           orient=\"h\",dodge=False).set(title=\"MOST COMMON NAMED ENTITIES IN NOT Flagged class\")"
   ]
  },
  {
   "cell_type": "code",
   "execution_count": 72,
   "id": "a3102c25",
   "metadata": {},
   "outputs": [
    {
     "data": {
      "text/plain": [
       "[Text(0.5, 1.0, 'MOST COMMON NAMED ENTITIES IN NOT Flagged class')]"
      ]
     },
     "execution_count": 72,
     "metadata": {},
     "output_type": "execute_result"
    },
    {
     "data": {
      "image/png": "[encoded data removed]",
      "text/plain": [
       "<Figure size 640x480 with 1 Axes>"
      ]
     },
     "metadata": {},
     "output_type": "display_data"
    }
   ],
   "source": [
    "sns.barplot(x=\"counts\",y=\"token\",hue=\"ner_tag\",data=top_entities_pos[:10],orient=\"h\",dodge=False).set(title=\"MOST COMMON NAMED ENTITIES IN NOT Flagged class\")"
   ]
  },
  {
   "cell_type": "markdown",
   "id": "3064bec3",
   "metadata": {},
   "source": [
    "## The Text Preprocessing"
   ]
  },
  {
   "cell_type": "code",
   "execution_count": 73,
   "id": "d46c5ccc",
   "metadata": {},
   "outputs": [
    {
     "data": {
      "text/html": [
       "<div>\n",
       "<style scoped>\n",
       "    .dataframe tbody tr th:only-of-type {\n",
       "        vertical-align: middle;\n",
       "    }\n",
       "\n",
       "    .dataframe tbody tr th {\n",
       "        vertical-align: top;\n",
       "    }\n",
       "\n",
       "    .dataframe thead th {\n",
       "        text-align: right;\n",
       "    }\n",
       "</style>\n",
       "<table border=\"1\" class=\"dataframe\">\n",
       "  <thead>\n",
       "    <tr style=\"text-align: right;\">\n",
       "      <th></th>\n",
       "      <th>0</th>\n",
       "      <th>response</th>\n",
       "      <th>class</th>\n",
       "    </tr>\n",
       "  </thead>\n",
       "  <tbody>\n",
       "    <tr>\n",
       "      <th>0</th>\n",
       "      <td>Accept a calendar week cancelled oeuvre, packe...</td>\n",
       "      <td>Accept a calendar week cancelled oeuvre, packe...</td>\n",
       "      <td>0</td>\n",
       "    </tr>\n",
       "    <tr>\n",
       "      <th>1</th>\n",
       "      <td>Get a supporter open upward to maine astir his...</td>\n",
       "      <td>Get a supporter open upward to maine astir his...</td>\n",
       "      <td>1</td>\n",
       "    </tr>\n",
       "    <tr>\n",
       "      <th>2</th>\n",
       "      <td>My grandmother went through some severe depres...</td>\n",
       "      <td>My grandmother went through some severe depres...</td>\n",
       "      <td>1</td>\n",
       "    </tr>\n",
       "    <tr>\n",
       "      <th>3</th>\n",
       "      <td>Anxious girlfriend always demand my help</td>\n",
       "      <td>Anxious girlfriend always demand my help</td>\n",
       "      <td>0</td>\n",
       "    </tr>\n",
       "    <tr>\n",
       "      <th>4</th>\n",
       "      <td>Atomic number 53 ' ve had some friends follow ...</td>\n",
       "      <td>Atomic number 53 ' ve had some friends follow ...</td>\n",
       "      <td>1</td>\n",
       "    </tr>\n",
       "  </tbody>\n",
       "</table>\n",
       "</div>"
      ],
      "text/plain": [
       "                                                   0  \\\n",
       "0  Accept a calendar week cancelled oeuvre, packe...   \n",
       "1  Get a supporter open upward to maine astir his...   \n",
       "2  My grandmother went through some severe depres...   \n",
       "3           Anxious girlfriend always demand my help   \n",
       "4  Atomic number 53 ' ve had some friends follow ...   \n",
       "\n",
       "                                            response  class  \n",
       "0  Accept a calendar week cancelled oeuvre, packe...      0  \n",
       "1  Get a supporter open upward to maine astir his...      1  \n",
       "2  My grandmother went through some severe depres...      1  \n",
       "3           Anxious girlfriend always demand my help      0  \n",
       "4  Atomic number 53 ' ve had some friends follow ...      1  "
      ]
     },
     "execution_count": 73,
     "metadata": {},
     "output_type": "execute_result"
    }
   ],
   "source": [
    "data_resampled.head()"
   ]
  },
  {
   "cell_type": "markdown",
   "id": "8d1cdc2a",
   "metadata": {},
   "source": [
    "### Cleaning"
   ]
  },
  {
   "cell_type": "markdown",
   "id": "6aff557e",
   "metadata": {},
   "source": [
    "#### Removing Hyphon"
   ]
  },
  {
   "cell_type": "code",
   "execution_count": 74,
   "id": "f0ff843c",
   "metadata": {},
   "outputs": [],
   "source": [
    "data_resampled[\"response_clean\"]=data_resampled.apply(lambda x:re.sub(r\"^[^-]*-\\s\",\"\",x[\"response\"]),axis=1)"
   ]
  },
  {
   "cell_type": "markdown",
   "id": "a6e3b8e2",
   "metadata": {},
   "source": [
    "#### Lower Case"
   ]
  },
  {
   "cell_type": "code",
   "execution_count": 75,
   "id": "90870186",
   "metadata": {},
   "outputs": [],
   "source": [
    "data_resampled[\"response_clean\"]=data_resampled[\"response_clean\"].str.lower()"
   ]
  },
  {
   "cell_type": "markdown",
   "id": "f6dd16f4",
   "metadata": {},
   "source": [
    "#### Deleting punctuation"
   ]
  },
  {
   "cell_type": "code",
   "execution_count": 76,
   "id": "3e7ac565",
   "metadata": {},
   "outputs": [],
   "source": [
    "data_resampled[\"response_clean\"]=data_resampled.apply(lambda x:re.sub(r\"([^\\w\\s])\",\"\",x[\"response_clean\"]),axis=1)"
   ]
  },
  {
   "cell_type": "markdown",
   "id": "06b4085f",
   "metadata": {},
   "source": [
    "#### Stopwords"
   ]
  },
  {
   "cell_type": "code",
   "execution_count": 77,
   "id": "3ff6044f",
   "metadata": {},
   "outputs": [],
   "source": [
    "en_stopwords=stopwords.words(\"english\")"
   ]
  },
  {
   "cell_type": "code",
   "execution_count": 78,
   "id": "3178163f",
   "metadata": {},
   "outputs": [],
   "source": [
    "data_resampled[\"response_clean\"]=data_resampled[\"response_clean\"].apply(lambda x: \" \".join([word for word in x.split() if word not in (en_stopwords)]))"
   ]
  },
  {
   "cell_type": "markdown",
   "id": "851ea2dd",
   "metadata": {},
   "source": [
    "#### Tokenize"
   ]
  },
  {
   "cell_type": "code",
   "execution_count": 79,
   "id": "1d44216e",
   "metadata": {},
   "outputs": [],
   "source": [
    "data_resampled[\"response_clean\"]=data_resampled.apply(lambda x:word_tokenize(x[\"response_clean\"]),axis=1)"
   ]
  },
  {
   "cell_type": "markdown",
   "id": "b9d032b9",
   "metadata": {},
   "source": [
    "#### Lemmatizer "
   ]
  },
  {
   "cell_type": "code",
   "execution_count": 80,
   "id": "e5662059",
   "metadata": {},
   "outputs": [],
   "source": [
    "lemmatizer=WordNetLemmatizer()"
   ]
  },
  {
   "cell_type": "code",
   "execution_count": 81,
   "id": "34c1025d",
   "metadata": {},
   "outputs": [],
   "source": [
    "data_resampled[\"response_clean\"]=data_resampled[\"response_clean\"].apply(lambda tokens : [lemmatizer.lemmatize(token) for token in tokens])"
   ]
  },
  {
   "cell_type": "code",
   "execution_count": 82,
   "id": "b3d8ea26",
   "metadata": {},
   "outputs": [
    {
     "data": {
      "text/html": [
       "<div>\n",
       "<style scoped>\n",
       "    .dataframe tbody tr th:only-of-type {\n",
       "        vertical-align: middle;\n",
       "    }\n",
       "\n",
       "    .dataframe tbody tr th {\n",
       "        vertical-align: top;\n",
       "    }\n",
       "\n",
       "    .dataframe thead th {\n",
       "        text-align: right;\n",
       "    }\n",
       "</style>\n",
       "<table border=\"1\" class=\"dataframe\">\n",
       "  <thead>\n",
       "    <tr style=\"text-align: right;\">\n",
       "      <th></th>\n",
       "      <th>0</th>\n",
       "      <th>response</th>\n",
       "      <th>class</th>\n",
       "      <th>response_clean</th>\n",
       "    </tr>\n",
       "  </thead>\n",
       "  <tbody>\n",
       "    <tr>\n",
       "      <th>0</th>\n",
       "      <td>Accept a calendar week cancelled oeuvre, packe...</td>\n",
       "      <td>Accept a calendar week cancelled oeuvre, packe...</td>\n",
       "      <td>0</td>\n",
       "      <td>[accept, calendar, week, cancelled, oeuvre, pa...</td>\n",
       "    </tr>\n",
       "    <tr>\n",
       "      <th>1</th>\n",
       "      <td>Get a supporter open upward to maine astir his...</td>\n",
       "      <td>Get a supporter open upward to maine astir his...</td>\n",
       "      <td>1</td>\n",
       "      <td>[get, supporter, open, upward, maine, astir, g...</td>\n",
       "    </tr>\n",
       "    <tr>\n",
       "      <th>2</th>\n",
       "      <td>My grandmother went through some severe depres...</td>\n",
       "      <td>My grandmother went through some severe depres...</td>\n",
       "      <td>1</td>\n",
       "      <td>[grandmother, went, severe, depression, shortl...</td>\n",
       "    </tr>\n",
       "    <tr>\n",
       "      <th>3</th>\n",
       "      <td>Anxious girlfriend always demand my help</td>\n",
       "      <td>Anxious girlfriend always demand my help</td>\n",
       "      <td>0</td>\n",
       "      <td>[anxious, girlfriend, always, demand, help]</td>\n",
       "    </tr>\n",
       "    <tr>\n",
       "      <th>4</th>\n",
       "      <td>Atomic number 53 ' ve had some friends follow ...</td>\n",
       "      <td>Atomic number 53 ' ve had some friends follow ...</td>\n",
       "      <td>1</td>\n",
       "      <td>[atomic, number, 53, friend, follow, pronounce...</td>\n",
       "    </tr>\n",
       "  </tbody>\n",
       "</table>\n",
       "</div>"
      ],
      "text/plain": [
       "                                                   0  \\\n",
       "0  Accept a calendar week cancelled oeuvre, packe...   \n",
       "1  Get a supporter open upward to maine astir his...   \n",
       "2  My grandmother went through some severe depres...   \n",
       "3           Anxious girlfriend always demand my help   \n",
       "4  Atomic number 53 ' ve had some friends follow ...   \n",
       "\n",
       "                                            response  class  \\\n",
       "0  Accept a calendar week cancelled oeuvre, packe...      0   \n",
       "1  Get a supporter open upward to maine astir his...      1   \n",
       "2  My grandmother went through some severe depres...      1   \n",
       "3           Anxious girlfriend always demand my help      0   \n",
       "4  Atomic number 53 ' ve had some friends follow ...      1   \n",
       "\n",
       "                                      response_clean  \n",
       "0  [accept, calendar, week, cancelled, oeuvre, pa...  \n",
       "1  [get, supporter, open, upward, maine, astir, g...  \n",
       "2  [grandmother, went, severe, depression, shortl...  \n",
       "3        [anxious, girlfriend, always, demand, help]  \n",
       "4  [atomic, number, 53, friend, follow, pronounce...  "
      ]
     },
     "execution_count": 82,
     "metadata": {},
     "output_type": "execute_result"
    }
   ],
   "source": [
    "data_resampled.head()"
   ]
  },
  {
   "cell_type": "code",
   "execution_count": 83,
   "id": "a3686e65",
   "metadata": {},
   "outputs": [],
   "source": [
    "tokens_clean=sum(data_resampled[\"response_clean\"],[])"
   ]
  },
  {
   "cell_type": "code",
   "execution_count": 84,
   "id": "e18633a0",
   "metadata": {},
   "outputs": [
    {
     "data": {
      "text/plain": [
       "(friend,)         39\n",
       "(people,)         19\n",
       "(help,)           14\n",
       "(get,)            13\n",
       "(number,)         11\n",
       "(helped,)         11\n",
       "(atomic,)         10\n",
       "(technology,)     10\n",
       "(information,)    10\n",
       "(school,)          9\n",
       "dtype: int64"
      ]
     },
     "execution_count": 84,
     "metadata": {},
     "output_type": "execute_result"
    }
   ],
   "source": [
    "unigrams=(pd.Series(nltk.ngrams(tokens_clean,1)).value_counts())\n",
    "unigrams[:10]"
   ]
  },
  {
   "cell_type": "code",
   "execution_count": 85,
   "id": "d9312854",
   "metadata": {},
   "outputs": [
    {
     "data": {
      "text/plain": [
       "[Text(0.5, 1.0, 'Most Common Unigrams After PreProcessing')]"
      ]
     },
     "execution_count": 85,
     "metadata": {},
     "output_type": "execute_result"
    },
    {
     "data": {
      "image/png": "[encoded data removed]",
      "text/plain": [
       "<Figure size 640x480 with 1 Axes>"
      ]
     },
     "metadata": {},
     "output_type": "display_data"
    }
   ],
   "source": [
    "sns.barplot(x=unigrams[:10],y=unigrams.index[:10],\n",
    "           orient=\"h\"\n",
    "           ).set(title=\"Most Common Unigrams After PreProcessing\")"
   ]
  },
  {
   "cell_type": "code",
   "execution_count": 86,
   "id": "3eaf6c7d",
   "metadata": {},
   "outputs": [
    {
     "data": {
      "text/plain": [
       "(information, technology)    10\n",
       "(atomic, number)             10\n",
       "(number, 2)                   6\n",
       "(world, health)               4\n",
       "(health, organization)        4\n",
       "(let, know)                   3\n",
       "(number, 53)                  3\n",
       "(would, go)                   3\n",
       "(every, day)                  2\n",
       "(would, call)                 2\n",
       "dtype: int64"
      ]
     },
     "execution_count": 86,
     "metadata": {},
     "output_type": "execute_result"
    }
   ],
   "source": [
    "bigrams=(pd.Series(nltk.ngrams(tokens_clean,2)).value_counts())\n",
    "bigrams[:10]"
   ]
  },
  {
   "cell_type": "markdown",
   "id": "ad59a292",
   "metadata": {},
   "source": [
    "## Sentiment Analysis"
   ]
  },
  {
   "cell_type": "code",
   "execution_count": 87,
   "id": "3a805d1f",
   "metadata": {},
   "outputs": [],
   "source": [
    "vader_sentiment=SentimentIntensityAnalyzer()"
   ]
  },
  {
   "cell_type": "code",
   "execution_count": 88,
   "id": "8bc80771",
   "metadata": {},
   "outputs": [],
   "source": [
    "data_resampled[\"vader_sentiment_score\"]=data_resampled[\"response\"].apply(lambda x: vader_sentiment.polarity_scores(x)[\"compound\"])"
   ]
  },
  {
   "cell_type": "code",
   "execution_count": 89,
   "id": "2050e305",
   "metadata": {},
   "outputs": [
    {
     "data": {
      "text/html": [
       "<div>\n",
       "<style scoped>\n",
       "    .dataframe tbody tr th:only-of-type {\n",
       "        vertical-align: middle;\n",
       "    }\n",
       "\n",
       "    .dataframe tbody tr th {\n",
       "        vertical-align: top;\n",
       "    }\n",
       "\n",
       "    .dataframe thead th {\n",
       "        text-align: right;\n",
       "    }\n",
       "</style>\n",
       "<table border=\"1\" class=\"dataframe\">\n",
       "  <thead>\n",
       "    <tr style=\"text-align: right;\">\n",
       "      <th></th>\n",
       "      <th>0</th>\n",
       "      <th>response</th>\n",
       "      <th>class</th>\n",
       "      <th>response_clean</th>\n",
       "      <th>vader_sentiment_score</th>\n",
       "    </tr>\n",
       "  </thead>\n",
       "  <tbody>\n",
       "    <tr>\n",
       "      <th>0</th>\n",
       "      <td>Accept a calendar week cancelled oeuvre, packe...</td>\n",
       "      <td>Accept a calendar week cancelled oeuvre, packe...</td>\n",
       "      <td>0</td>\n",
       "      <td>[accept, calendar, week, cancelled, oeuvre, pa...</td>\n",
       "      <td>-0.1280</td>\n",
       "    </tr>\n",
       "    <tr>\n",
       "      <th>1</th>\n",
       "      <td>Get a supporter open upward to maine astir his...</td>\n",
       "      <td>Get a supporter open upward to maine astir his...</td>\n",
       "      <td>1</td>\n",
       "      <td>[get, supporter, open, upward, maine, astir, g...</td>\n",
       "      <td>0.1531</td>\n",
       "    </tr>\n",
       "    <tr>\n",
       "      <th>2</th>\n",
       "      <td>My grandmother went through some severe depres...</td>\n",
       "      <td>My grandmother went through some severe depres...</td>\n",
       "      <td>1</td>\n",
       "      <td>[grandmother, went, severe, depression, shortl...</td>\n",
       "      <td>-0.2500</td>\n",
       "    </tr>\n",
       "    <tr>\n",
       "      <th>3</th>\n",
       "      <td>Anxious girlfriend always demand my help</td>\n",
       "      <td>Anxious girlfriend always demand my help</td>\n",
       "      <td>0</td>\n",
       "      <td>[anxious, girlfriend, always, demand, help]</td>\n",
       "      <td>0.0516</td>\n",
       "    </tr>\n",
       "    <tr>\n",
       "      <th>4</th>\n",
       "      <td>Atomic number 53 ' ve had some friends follow ...</td>\n",
       "      <td>Atomic number 53 ' ve had some friends follow ...</td>\n",
       "      <td>1</td>\n",
       "      <td>[atomic, number, 53, friend, follow, pronounce...</td>\n",
       "      <td>0.7717</td>\n",
       "    </tr>\n",
       "  </tbody>\n",
       "</table>\n",
       "</div>"
      ],
      "text/plain": [
       "                                                   0  \\\n",
       "0  Accept a calendar week cancelled oeuvre, packe...   \n",
       "1  Get a supporter open upward to maine astir his...   \n",
       "2  My grandmother went through some severe depres...   \n",
       "3           Anxious girlfriend always demand my help   \n",
       "4  Atomic number 53 ' ve had some friends follow ...   \n",
       "\n",
       "                                            response  class  \\\n",
       "0  Accept a calendar week cancelled oeuvre, packe...      0   \n",
       "1  Get a supporter open upward to maine astir his...      1   \n",
       "2  My grandmother went through some severe depres...      1   \n",
       "3           Anxious girlfriend always demand my help      0   \n",
       "4  Atomic number 53 ' ve had some friends follow ...      1   \n",
       "\n",
       "                                      response_clean  vader_sentiment_score  \n",
       "0  [accept, calendar, week, cancelled, oeuvre, pa...                -0.1280  \n",
       "1  [get, supporter, open, upward, maine, astir, g...                 0.1531  \n",
       "2  [grandmother, went, severe, depression, shortl...                -0.2500  \n",
       "3        [anxious, girlfriend, always, demand, help]                 0.0516  \n",
       "4  [atomic, number, 53, friend, follow, pronounce...                 0.7717  "
      ]
     },
     "execution_count": 89,
     "metadata": {},
     "output_type": "execute_result"
    }
   ],
   "source": [
    "data_resampled.head()"
   ]
  },
  {
   "cell_type": "code",
   "execution_count": 90,
   "id": "f15b7574",
   "metadata": {},
   "outputs": [],
   "source": [
    "bins=[-1,-0.1,0.1,1]\n",
    "names=[\"nagative\",\"neutral\",\"positive\"]\n",
    "data_resampled[\"vader_sentiment_label\"]=pd.cut(data_resampled[\"vader_sentiment_score\"],bins,labels=names)"
   ]
  },
  {
   "cell_type": "code",
   "execution_count": 91,
   "id": "ba83e87f",
   "metadata": {},
   "outputs": [
    {
     "data": {
      "text/html": [
       "<div>\n",
       "<style scoped>\n",
       "    .dataframe tbody tr th:only-of-type {\n",
       "        vertical-align: middle;\n",
       "    }\n",
       "\n",
       "    .dataframe tbody tr th {\n",
       "        vertical-align: top;\n",
       "    }\n",
       "\n",
       "    .dataframe thead th {\n",
       "        text-align: right;\n",
       "    }\n",
       "</style>\n",
       "<table border=\"1\" class=\"dataframe\">\n",
       "  <thead>\n",
       "    <tr style=\"text-align: right;\">\n",
       "      <th></th>\n",
       "      <th>0</th>\n",
       "      <th>response</th>\n",
       "      <th>class</th>\n",
       "      <th>response_clean</th>\n",
       "      <th>vader_sentiment_score</th>\n",
       "      <th>vader_sentiment_label</th>\n",
       "    </tr>\n",
       "  </thead>\n",
       "  <tbody>\n",
       "    <tr>\n",
       "      <th>0</th>\n",
       "      <td>Accept a calendar week cancelled oeuvre, packe...</td>\n",
       "      <td>Accept a calendar week cancelled oeuvre, packe...</td>\n",
       "      <td>0</td>\n",
       "      <td>[accept, calendar, week, cancelled, oeuvre, pa...</td>\n",
       "      <td>-0.1280</td>\n",
       "      <td>nagative</td>\n",
       "    </tr>\n",
       "    <tr>\n",
       "      <th>1</th>\n",
       "      <td>Get a supporter open upward to maine astir his...</td>\n",
       "      <td>Get a supporter open upward to maine astir his...</td>\n",
       "      <td>1</td>\n",
       "      <td>[get, supporter, open, upward, maine, astir, g...</td>\n",
       "      <td>0.1531</td>\n",
       "      <td>positive</td>\n",
       "    </tr>\n",
       "    <tr>\n",
       "      <th>2</th>\n",
       "      <td>My grandmother went through some severe depres...</td>\n",
       "      <td>My grandmother went through some severe depres...</td>\n",
       "      <td>1</td>\n",
       "      <td>[grandmother, went, severe, depression, shortl...</td>\n",
       "      <td>-0.2500</td>\n",
       "      <td>nagative</td>\n",
       "    </tr>\n",
       "    <tr>\n",
       "      <th>3</th>\n",
       "      <td>Anxious girlfriend always demand my help</td>\n",
       "      <td>Anxious girlfriend always demand my help</td>\n",
       "      <td>0</td>\n",
       "      <td>[anxious, girlfriend, always, demand, help]</td>\n",
       "      <td>0.0516</td>\n",
       "      <td>neutral</td>\n",
       "    </tr>\n",
       "    <tr>\n",
       "      <th>4</th>\n",
       "      <td>Atomic number 53 ' ve had some friends follow ...</td>\n",
       "      <td>Atomic number 53 ' ve had some friends follow ...</td>\n",
       "      <td>1</td>\n",
       "      <td>[atomic, number, 53, friend, follow, pronounce...</td>\n",
       "      <td>0.7717</td>\n",
       "      <td>positive</td>\n",
       "    </tr>\n",
       "  </tbody>\n",
       "</table>\n",
       "</div>"
      ],
      "text/plain": [
       "                                                   0  \\\n",
       "0  Accept a calendar week cancelled oeuvre, packe...   \n",
       "1  Get a supporter open upward to maine astir his...   \n",
       "2  My grandmother went through some severe depres...   \n",
       "3           Anxious girlfriend always demand my help   \n",
       "4  Atomic number 53 ' ve had some friends follow ...   \n",
       "\n",
       "                                            response  class  \\\n",
       "0  Accept a calendar week cancelled oeuvre, packe...      0   \n",
       "1  Get a supporter open upward to maine astir his...      1   \n",
       "2  My grandmother went through some severe depres...      1   \n",
       "3           Anxious girlfriend always demand my help      0   \n",
       "4  Atomic number 53 ' ve had some friends follow ...      1   \n",
       "\n",
       "                                      response_clean  vader_sentiment_score  \\\n",
       "0  [accept, calendar, week, cancelled, oeuvre, pa...                -0.1280   \n",
       "1  [get, supporter, open, upward, maine, astir, g...                 0.1531   \n",
       "2  [grandmother, went, severe, depression, shortl...                -0.2500   \n",
       "3        [anxious, girlfriend, always, demand, help]                 0.0516   \n",
       "4  [atomic, number, 53, friend, follow, pronounce...                 0.7717   \n",
       "\n",
       "  vader_sentiment_label  \n",
       "0              nagative  \n",
       "1              positive  \n",
       "2              nagative  \n",
       "3               neutral  \n",
       "4              positive  "
      ]
     },
     "execution_count": 91,
     "metadata": {},
     "output_type": "execute_result"
    }
   ],
   "source": [
    "data_resampled.head()"
   ]
  },
  {
   "cell_type": "code",
   "execution_count": 92,
   "id": "e4904a14",
   "metadata": {},
   "outputs": [
    {
     "data": {
      "text/plain": [
       "<AxesSubplot:>"
      ]
     },
     "execution_count": 92,
     "metadata": {},
     "output_type": "execute_result"
    },
    {
     "data": {
      "image/png": "[encoded data removed]",
      "text/plain": [
       "<Figure size 640x480 with 1 Axes>"
      ]
     },
     "metadata": {},
     "output_type": "display_data"
    }
   ],
   "source": [
    "data_resampled[\"vader_sentiment_label\"].value_counts().plot.bar()"
   ]
  },
  {
   "cell_type": "code",
   "execution_count": 93,
   "id": "70c48992",
   "metadata": {},
   "outputs": [
    {
     "data": {
      "text/plain": [
       "[Text(0.5, 1.0, 'Sentiment by News Type')]"
      ]
     },
     "execution_count": 93,
     "metadata": {},
     "output_type": "execute_result"
    },
    {
     "data": {
      "image/png": "[encoded data removed]",
      "text/plain": [
       "<Figure size 640x480 with 1 Axes>"
      ]
     },
     "metadata": {},
     "output_type": "display_data"
    }
   ],
   "source": [
    "sns.countplot(x=\"class\",hue=\"vader_sentiment_label\",\n",
    "             palette=sns.color_palette(\"hls\"),\n",
    "             data=data_resampled).set(title=\"Sentiment by News Type\")"
   ]
  },
  {
   "cell_type": "markdown",
   "id": "dc67a3bc",
   "metadata": {},
   "source": [
    "## Topic Observations"
   ]
  },
  {
   "cell_type": "markdown",
   "id": "e2aa894d",
   "metadata": {},
   "source": [
    "### LDA"
   ]
  },
  {
   "cell_type": "code",
   "execution_count": 94,
   "id": "aa658283",
   "metadata": {},
   "outputs": [],
   "source": [
    "negative_text= data_resampled[data_resampled[\"class\"]== 0][\"response_clean\"].reset_index(drop=True)"
   ]
  },
  {
   "cell_type": "code",
   "execution_count": 95,
   "id": "e0b8bca1",
   "metadata": {},
   "outputs": [],
   "source": [
    "dictionary_negative=corpora.Dictionary(negative_text)"
   ]
  },
  {
   "cell_type": "code",
   "execution_count": 96,
   "id": "2cd5ea27",
   "metadata": {},
   "outputs": [
    {
     "data": {
      "text/plain": [
       "<gensim.corpora.dictionary.Dictionary at 0x18a3d4c4b50>"
      ]
     },
     "execution_count": 96,
     "metadata": {},
     "output_type": "execute_result"
    }
   ],
   "source": [
    "dictionary_negative"
   ]
  },
  {
   "cell_type": "code",
   "execution_count": 97,
   "id": "678215d0",
   "metadata": {},
   "outputs": [],
   "source": [
    "doc_term_negative=[dictionary_negative.doc2bow(text) for text in negative_text]"
   ]
  },
  {
   "cell_type": "code",
   "execution_count": 98,
   "id": "3c32337d",
   "metadata": {},
   "outputs": [],
   "source": [
    "coherence_values=[]\n",
    "model_list=[]\n",
    "\n",
    "min_topics=2\n",
    "max_topics=11\n",
    "\n",
    "for num_topics_i in range(min_topics,max_topics+1):\n",
    "    model=gensim.models.LdaModel(doc_term_negative,num_topics=num_topics_i,id2word=dictionary_negative)\n",
    "    model_list.append(model)\n",
    "    coherence_model=CoherenceModel(model=model,texts=negative_text,dictionary=dictionary_negative,coherence=\"c_v\")\n",
    "    coherence_values.append(coherence_model.get_coherence())"
   ]
  },
  {
   "cell_type": "code",
   "execution_count": 99,
   "id": "77219cb7",
   "metadata": {},
   "outputs": [
    {
     "data": {
      "image/png": "[encoded data removed]",
      "text/plain": [
       "<Figure size 640x480 with 1 Axes>"
      ]
     },
     "metadata": {},
     "output_type": "display_data"
    }
   ],
   "source": [
    "plt.plot(range(min_topics,max_topics+1),coherence_values)\n",
    "plt.xlabel(\"Number of Topics\")\n",
    "plt.ylabel(\"Coherence Scores\")\n",
    "plt.legend((\"coherence_values\"),loc=\"best\")\n",
    "plt.show()"
   ]
  },
  {
   "cell_type": "code",
   "execution_count": 102,
   "id": "442afea3",
   "metadata": {},
   "outputs": [
    {
     "data": {
      "text/plain": [
       "[(0,\n",
       "  '0.033*\"friend\" + 0.022*\"girl\" + 0.022*\"problem\" + 0.021*\"week\" + 0.018*\"lot\" + 0.016*\"astir\" + 0.014*\"life\" + 0.014*\"know\" + 0.013*\"feel\" + 0.013*\"look\"'),\n",
       " (1,\n",
       "  '0.033*\"ace\" + 0.022*\"help\" + 0.022*\"shit\" + 0.015*\"friend\" + 0.015*\"really\" + 0.012*\"organization\" + 0.012*\"pitch\" + 0.012*\"circumstance\" + 0.012*\"oneself\" + 0.012*\"mine\"'),\n",
       " (2,\n",
       "  '0.020*\"one\" + 0.020*\"going\" + 0.020*\"help\" + 0.020*\"situation\" + 0.020*\"open\" + 0.011*\"talking\" + 0.011*\"entirely\" + 0.011*\"information\" + 0.011*\"ever\" + 0.011*\"1\"'),\n",
       " (3,\n",
       "  '0.021*\"friend\" + 0.018*\"information\" + 0.018*\"technology\" + 0.017*\"listen\" + 0.015*\"2\" + 0.015*\"care\" + 0.015*\"neer\" + 0.012*\"girl\" + 0.012*\"like\" + 0.011*\"astir\"'),\n",
       " (4,\n",
       "  '0.020*\"school\" + 0.020*\"imagination\" + 0.011*\"helped\" + 0.011*\"organization\" + 0.011*\"may\" + 0.011*\"leave\" + 0.011*\"nursing\" + 0.011*\"assignment\" + 0.011*\"someone\" + 0.011*\"iodine\"'),\n",
       " (5,\n",
       "  '0.021*\"friend\" + 0.020*\"feel\" + 0.020*\"follow\" + 0.020*\"school\" + 0.020*\"problem\" + 0.011*\"help\" + 0.011*\"going\" + 0.010*\"shit\" + 0.010*\"kind\" + 0.010*\"return\"'),\n",
       " (6,\n",
       "  '0.026*\"friend\" + 0.018*\"time\" + 0.015*\"help\" + 0.013*\"really\" + 0.013*\"get\" + 0.012*\"talk\" + 0.011*\"know\" + 0.011*\"helped\" + 0.011*\"take\" + 0.011*\"make\"'),\n",
       " (7,\n",
       "  '0.030*\"friend\" + 0.020*\"people\" + 0.020*\"well\" + 0.011*\"listening\" + 0.011*\"fairly\" + 0.011*\"damn\" + 0.011*\"information\" + 0.011*\"helpful\" + 0.011*\"common\" + 0.011*\"possible\"'),\n",
       " (8,\n",
       "  '0.025*\"people\" + 0.019*\"always\" + 0.019*\"need\" + 0.019*\"friend\" + 0.017*\"want\" + 0.010*\"lot\" + 0.010*\"much\" + 0.010*\"good\" + 0.010*\"think\" + 0.010*\"ear\"')]"
      ]
     },
     "execution_count": 102,
     "metadata": {},
     "output_type": "execute_result"
    }
   ],
   "source": [
    "nums_topics_lda=9\n",
    "lda_model=gensim.models.LdaModel(corpus=doc_term_negative,num_topics=nums_topics_lda,id2word=dictionary_negative)\n",
    "lda_model.print_topics(num_topics=nums_topics_lda,num_words=10)"
   ]
  },
  {
   "cell_type": "markdown",
   "id": "ec426121",
   "metadata": {},
   "source": [
    "## TFIDF"
   ]
  },
  {
   "cell_type": "code",
   "execution_count": 103,
   "id": "5d730a81",
   "metadata": {},
   "outputs": [],
   "source": [
    "def tfidf_corpus(doc_term_matrix):\n",
    "    tfidf=TfidfModel(corpus=doc_term_matrix,normalize=True)\n",
    "    corpus_tfidf= tfidf[doc_term_matrix]\n",
    "    return corpus_tfidf\n",
    "\n",
    "def get_coherence_scores(corpus,dictionary,text,min_topics,max_topics):\n",
    "    coherence_values=[]\n",
    "    model_list=[]\n",
    "    for num_topics_i in range(min_topics,max_topics+1):\n",
    "        model=LsiModel(corpus,num_topics= num_topics_i,id2word=dictionary )\n",
    "        model_list.append(model)\n",
    "        coherence_model=CoherenceModel(model=model,texts=text,dictionary=dictionary,coherence=\"c_v\")\n",
    "        coherence_values.append(coherence_model.get_coherence())\n",
    "    plt.plot(range(min_topics,max_topics+1),coherence_values)\n",
    "    plt.xlabel(\"number of topics\")\n",
    "    plt.ylabel(\"coherence score \")\n",
    "    plt.legend((\"coherence_values\"),loc=\"best\")\n",
    "    plt.show()"
   ]
  },
  {
   "cell_type": "code",
   "execution_count": 104,
   "id": "5b6d0719",
   "metadata": {},
   "outputs": [],
   "source": [
    "corpus_tfidf_negative=tfidf_corpus(doc_term_negative)"
   ]
  },
  {
   "cell_type": "code",
   "execution_count": 105,
   "id": "31a775f4",
   "metadata": {},
   "outputs": [
    {
     "data": {
      "image/png": "[encoded data removed]",
      "text/plain": [
       "<Figure size 640x480 with 1 Axes>"
      ]
     },
     "metadata": {},
     "output_type": "display_data"
    }
   ],
   "source": [
    "get_coherence_scores(corpus_tfidf_negative,dictionary_negative,negative_text,min_topics=2,max_topics=11)"
   ]
  },
  {
   "cell_type": "code",
   "execution_count": 106,
   "id": "f34bc72e",
   "metadata": {},
   "outputs": [
    {
     "data": {
      "text/plain": [
       "[(0,\n",
       "  '1.000*\"neer\" + 0.000*\"time\" + 0.000*\"friend\" + 0.000*\"talking\" + 0.000*\"problem\" + 0.000*\"girlfriend\" + 0.000*\"always\" + 0.000*\"help\" + 0.000*\"people\" + 0.000*\"astir\"'),\n",
       " (1,\n",
       "  '-0.303*\"time\" + -0.249*\"friend\" + -0.217*\"talking\" + -0.201*\"problem\" + -0.198*\"girlfriend\" + -0.174*\"always\" + -0.166*\"help\" + -0.155*\"people\" + -0.145*\"astir\" + -0.138*\"done\"'),\n",
       " (2,\n",
       "  '0.331*\"health\" + 0.331*\"organization\" + 0.331*\"world\" + 0.318*\"school\" + 0.177*\"mortal\" + 0.177*\"struggling\" + 0.174*\"imagination\" + 0.160*\"live\" + 0.157*\"simply\" + 0.155*\"scramble\"'),\n",
       " (3,\n",
       "  '-0.403*\"time\" + -0.347*\"talking\" + 0.191*\"always\" + 0.189*\"ace\" + -0.179*\"helped\" + -0.175*\"done\" + 0.173*\"problem\" + -0.152*\"stuff\" + -0.131*\"admirer\" + 0.128*\"shit\"'),\n",
       " (4,\n",
       "  '-0.385*\"girlfriend\" + -0.211*\"listening\" + -0.203*\"anxious\" + -0.201*\"always\" + -0.192*\"problem\" + -0.177*\"demand\" + 0.167*\"2\" + 0.146*\"information\" + 0.146*\"technology\" + -0.142*\"time\"'),\n",
       " (5,\n",
       "  '-0.261*\"problem\" + 0.241*\"ace\" + -0.237*\"bring\" + 0.220*\"shit\" + -0.206*\"friend\" + -0.186*\"listening\" + 0.186*\"done\" + -0.170*\"girlfriend\" + 0.165*\"time\" + 0.149*\"think\"')]"
      ]
     },
     "execution_count": 106,
     "metadata": {},
     "output_type": "execute_result"
    }
   ],
   "source": [
    "lsa_model=LsiModel(corpus_tfidf_negative,id2word=dictionary_negative,num_topics=6)\n",
    "lsa_model.print_topics()"
   ]
  },
  {
   "cell_type": "markdown",
   "id": "7b3ad2b9",
   "metadata": {},
   "source": [
    "## Classification"
   ]
  },
  {
   "cell_type": "code",
   "execution_count": 107,
   "id": "48636fba",
   "metadata": {},
   "outputs": [
    {
     "data": {
      "text/html": [
       "<div>\n",
       "<style scoped>\n",
       "    .dataframe tbody tr th:only-of-type {\n",
       "        vertical-align: middle;\n",
       "    }\n",
       "\n",
       "    .dataframe tbody tr th {\n",
       "        vertical-align: top;\n",
       "    }\n",
       "\n",
       "    .dataframe thead th {\n",
       "        text-align: right;\n",
       "    }\n",
       "</style>\n",
       "<table border=\"1\" class=\"dataframe\">\n",
       "  <thead>\n",
       "    <tr style=\"text-align: right;\">\n",
       "      <th></th>\n",
       "      <th>0</th>\n",
       "      <th>response</th>\n",
       "      <th>class</th>\n",
       "      <th>response_clean</th>\n",
       "      <th>vader_sentiment_score</th>\n",
       "      <th>vader_sentiment_label</th>\n",
       "    </tr>\n",
       "  </thead>\n",
       "  <tbody>\n",
       "    <tr>\n",
       "      <th>0</th>\n",
       "      <td>Accept a calendar week cancelled oeuvre, packe...</td>\n",
       "      <td>Accept a calendar week cancelled oeuvre, packe...</td>\n",
       "      <td>0</td>\n",
       "      <td>[accept, calendar, week, cancelled, oeuvre, pa...</td>\n",
       "      <td>-0.1280</td>\n",
       "      <td>nagative</td>\n",
       "    </tr>\n",
       "    <tr>\n",
       "      <th>1</th>\n",
       "      <td>Get a supporter open upward to maine astir his...</td>\n",
       "      <td>Get a supporter open upward to maine astir his...</td>\n",
       "      <td>1</td>\n",
       "      <td>[get, supporter, open, upward, maine, astir, g...</td>\n",
       "      <td>0.1531</td>\n",
       "      <td>positive</td>\n",
       "    </tr>\n",
       "    <tr>\n",
       "      <th>2</th>\n",
       "      <td>My grandmother went through some severe depres...</td>\n",
       "      <td>My grandmother went through some severe depres...</td>\n",
       "      <td>1</td>\n",
       "      <td>[grandmother, went, severe, depression, shortl...</td>\n",
       "      <td>-0.2500</td>\n",
       "      <td>nagative</td>\n",
       "    </tr>\n",
       "    <tr>\n",
       "      <th>3</th>\n",
       "      <td>Anxious girlfriend always demand my help</td>\n",
       "      <td>Anxious girlfriend always demand my help</td>\n",
       "      <td>0</td>\n",
       "      <td>[anxious, girlfriend, always, demand, help]</td>\n",
       "      <td>0.0516</td>\n",
       "      <td>neutral</td>\n",
       "    </tr>\n",
       "    <tr>\n",
       "      <th>4</th>\n",
       "      <td>Atomic number 53 ' ve had some friends follow ...</td>\n",
       "      <td>Atomic number 53 ' ve had some friends follow ...</td>\n",
       "      <td>1</td>\n",
       "      <td>[atomic, number, 53, friend, follow, pronounce...</td>\n",
       "      <td>0.7717</td>\n",
       "      <td>positive</td>\n",
       "    </tr>\n",
       "  </tbody>\n",
       "</table>\n",
       "</div>"
      ],
      "text/plain": [
       "                                                   0  \\\n",
       "0  Accept a calendar week cancelled oeuvre, packe...   \n",
       "1  Get a supporter open upward to maine astir his...   \n",
       "2  My grandmother went through some severe depres...   \n",
       "3           Anxious girlfriend always demand my help   \n",
       "4  Atomic number 53 ' ve had some friends follow ...   \n",
       "\n",
       "                                            response  class  \\\n",
       "0  Accept a calendar week cancelled oeuvre, packe...      0   \n",
       "1  Get a supporter open upward to maine astir his...      1   \n",
       "2  My grandmother went through some severe depres...      1   \n",
       "3           Anxious girlfriend always demand my help      0   \n",
       "4  Atomic number 53 ' ve had some friends follow ...      1   \n",
       "\n",
       "                                      response_clean  vader_sentiment_score  \\\n",
       "0  [accept, calendar, week, cancelled, oeuvre, pa...                -0.1280   \n",
       "1  [get, supporter, open, upward, maine, astir, g...                 0.1531   \n",
       "2  [grandmother, went, severe, depression, shortl...                -0.2500   \n",
       "3        [anxious, girlfriend, always, demand, help]                 0.0516   \n",
       "4  [atomic, number, 53, friend, follow, pronounce...                 0.7717   \n",
       "\n",
       "  vader_sentiment_label  \n",
       "0              nagative  \n",
       "1              positive  \n",
       "2              nagative  \n",
       "3               neutral  \n",
       "4              positive  "
      ]
     },
     "execution_count": 107,
     "metadata": {},
     "output_type": "execute_result"
    }
   ],
   "source": [
    "data_resampled.head()"
   ]
  },
  {
   "cell_type": "code",
   "execution_count": 108,
   "id": "eb97939f",
   "metadata": {},
   "outputs": [],
   "source": [
    "X=[\",\".join(map(str,l)) for l in data_resampled[\"response_clean\"]]"
   ]
  },
  {
   "cell_type": "code",
   "execution_count": 109,
   "id": "1208be24",
   "metadata": {},
   "outputs": [],
   "source": [
    "Y=data_resampled[\"class\"]"
   ]
  },
  {
   "cell_type": "code",
   "execution_count": 110,
   "id": "04f8c278",
   "metadata": {},
   "outputs": [],
   "source": [
    "countvec=CountVectorizer()"
   ]
  },
  {
   "cell_type": "code",
   "execution_count": 111,
   "id": "8657e58d",
   "metadata": {},
   "outputs": [],
   "source": [
    "countvec_fit=countvec.fit_transform(X)"
   ]
  },
  {
   "cell_type": "code",
   "execution_count": 112,
   "id": "fc9256f5",
   "metadata": {},
   "outputs": [],
   "source": [
    "bag_of_words=pd.DataFrame(countvec_fit.toarray(),columns=countvec.get_feature_names_out())"
   ]
  },
  {
   "cell_type": "code",
   "execution_count": 113,
   "id": "7a63a158",
   "metadata": {},
   "outputs": [],
   "source": [
    "X_train,X_test,Y_train,Y_test=train_test_split(bag_of_words,Y,test_size=0.2,random_state=365)"
   ]
  },
  {
   "cell_type": "markdown",
   "id": "f3f01fa2",
   "metadata": {},
   "source": [
    "### Logistic Regression"
   ]
  },
  {
   "cell_type": "code",
   "execution_count": 114,
   "id": "9cc84e81",
   "metadata": {},
   "outputs": [],
   "source": [
    "lr=LogisticRegression(random_state=85).fit(X_train,Y_train)"
   ]
  },
  {
   "cell_type": "code",
   "execution_count": 115,
   "id": "e55a810d",
   "metadata": {},
   "outputs": [],
   "source": [
    "y_pred_lr=lr.predict(X_test)"
   ]
  },
  {
   "cell_type": "code",
   "execution_count": 116,
   "id": "e123f27b",
   "metadata": {},
   "outputs": [
    {
     "data": {
      "text/plain": [
       "0.5625"
      ]
     },
     "execution_count": 116,
     "metadata": {},
     "output_type": "execute_result"
    }
   ],
   "source": [
    "accuracy_score(y_pred_lr,Y_test)"
   ]
  },
  {
   "cell_type": "code",
   "execution_count": 117,
   "id": "792fd18f",
   "metadata": {},
   "outputs": [
    {
     "name": "stdout",
     "output_type": "stream",
     "text": [
      "              precision    recall  f1-score   support\n",
      "\n",
      "           0       0.56      1.00      0.72         9\n",
      "           1       0.00      0.00      0.00         7\n",
      "\n",
      "    accuracy                           0.56        16\n",
      "   macro avg       0.28      0.50      0.36        16\n",
      "weighted avg       0.32      0.56      0.40        16\n",
      "\n"
     ]
    },
    {
     "name": "stderr",
     "output_type": "stream",
     "text": [
      "C:\\ProgramData\\Anaconda3\\lib\\site-packages\\sklearn\\metrics\\_classification.py:1318: UndefinedMetricWarning: Precision and F-score are ill-defined and being set to 0.0 in labels with no predicted samples. Use `zero_division` parameter to control this behavior.\n",
      "  _warn_prf(average, modifier, msg_start, len(result))\n",
      "C:\\ProgramData\\Anaconda3\\lib\\site-packages\\sklearn\\metrics\\_classification.py:1318: UndefinedMetricWarning: Precision and F-score are ill-defined and being set to 0.0 in labels with no predicted samples. Use `zero_division` parameter to control this behavior.\n",
      "  _warn_prf(average, modifier, msg_start, len(result))\n",
      "C:\\ProgramData\\Anaconda3\\lib\\site-packages\\sklearn\\metrics\\_classification.py:1318: UndefinedMetricWarning: Precision and F-score are ill-defined and being set to 0.0 in labels with no predicted samples. Use `zero_division` parameter to control this behavior.\n",
      "  _warn_prf(average, modifier, msg_start, len(result))\n"
     ]
    }
   ],
   "source": [
    "print(classification_report(Y_test,y_pred_lr))"
   ]
  },
  {
   "cell_type": "markdown",
   "id": "5b42b40e",
   "metadata": {},
   "source": [
    "### SVM"
   ]
  },
  {
   "cell_type": "code",
   "execution_count": 118,
   "id": "068115c4",
   "metadata": {},
   "outputs": [],
   "source": [
    "svm=SGDClassifier(random_state=85).fit(X_train,Y_train)"
   ]
  },
  {
   "cell_type": "code",
   "execution_count": 119,
   "id": "b3d128ab",
   "metadata": {},
   "outputs": [],
   "source": [
    "y_pred_svm=svm.predict(X_test)"
   ]
  },
  {
   "cell_type": "code",
   "execution_count": 120,
   "id": "6e8e71a1",
   "metadata": {},
   "outputs": [
    {
     "data": {
      "text/plain": [
       "0.75"
      ]
     },
     "execution_count": 120,
     "metadata": {},
     "output_type": "execute_result"
    }
   ],
   "source": [
    "accuracy_score(y_pred_svm,Y_test)"
   ]
  },
  {
   "cell_type": "code",
   "execution_count": 121,
   "id": "a5f89c74",
   "metadata": {},
   "outputs": [
    {
     "name": "stdout",
     "output_type": "stream",
     "text": [
      "              precision    recall  f1-score   support\n",
      "\n",
      "           0       0.69      1.00      0.82         9\n",
      "           1       1.00      0.43      0.60         7\n",
      "\n",
      "    accuracy                           0.75        16\n",
      "   macro avg       0.85      0.71      0.71        16\n",
      "weighted avg       0.83      0.75      0.72        16\n",
      "\n"
     ]
    }
   ],
   "source": [
    "print(classification_report(Y_test,y_pred_svm))"
   ]
  },
  {
   "cell_type": "markdown",
   "id": "5deeee7e",
   "metadata": {},
   "source": [
    "## Naive Bayes"
   ]
  },
  {
   "cell_type": "code",
   "execution_count": 122,
   "id": "4e1baa66",
   "metadata": {},
   "outputs": [],
   "source": [
    "from sklearn.naive_bayes import MultinomialNB"
   ]
  },
  {
   "cell_type": "code",
   "execution_count": 126,
   "id": "2461d04d",
   "metadata": {},
   "outputs": [],
   "source": [
    "mnb = MultinomialNB().fit(X_train, Y_train)"
   ]
  },
  {
   "cell_type": "code",
   "execution_count": 127,
   "id": "41008fe8",
   "metadata": {},
   "outputs": [],
   "source": [
    "y_pred_svm=mnb.predict(X_test)"
   ]
  },
  {
   "cell_type": "code",
   "execution_count": 128,
   "id": "8acf0c34",
   "metadata": {},
   "outputs": [
    {
     "data": {
      "text/plain": [
       "0.625"
      ]
     },
     "execution_count": 128,
     "metadata": {},
     "output_type": "execute_result"
    }
   ],
   "source": [
    "accuracy_score(y_pred_svm,Y_test)"
   ]
  },
  {
   "cell_type": "code",
   "execution_count": 129,
   "id": "b8d82ede",
   "metadata": {},
   "outputs": [
    {
     "name": "stdout",
     "output_type": "stream",
     "text": [
      "              precision    recall  f1-score   support\n",
      "\n",
      "           0       0.64      0.78      0.70         9\n",
      "           1       0.60      0.43      0.50         7\n",
      "\n",
      "    accuracy                           0.62        16\n",
      "   macro avg       0.62      0.60      0.60        16\n",
      "weighted avg       0.62      0.62      0.61        16\n",
      "\n"
     ]
    }
   ],
   "source": [
    "print(classification_report(Y_test,y_pred_svm))"
   ]
  },
  {
   "cell_type": "markdown",
   "id": "7015fcd3",
   "metadata": {},
   "source": [
    "### Deep Learning"
   ]
  },
  {
   "cell_type": "code",
   "execution_count": 143,
   "id": "46b152b0",
   "metadata": {},
   "outputs": [],
   "source": [
    "import tensorflow as tf\n",
    "from tensorflow.keras.preprocessing.text import Tokenizer\n",
    "from tensorflow.keras.preprocessing.sequence import pad_sequences\n",
    "from tensorflow.keras.models import Sequential\n",
    "from tensorflow.keras.layers import Embedding, Flatten, Dense\n",
    "from tensorflow.keras.layers import Dense, Embedding, LSTM, GlobalMaxPooling1D"
   ]
  },
  {
   "cell_type": "code",
   "execution_count": null,
   "id": "72bd8ce8",
   "metadata": {},
   "outputs": [],
   "source": []
  },
  {
   "cell_type": "code",
   "execution_count": 135,
   "id": "8fb9814d",
   "metadata": {},
   "outputs": [],
   "source": [
    "X_train, X_val, Y_train, y_val = train_test_split(X_train, Y_train, test_size=0.2, random_state=42)"
   ]
  },
  {
   "cell_type": "code",
   "execution_count": 163,
   "id": "30242993",
   "metadata": {},
   "outputs": [],
   "source": [
    "model = Sequential()\n",
    "model.add(Embedding(input_dim=686, output_dim=100, input_length=686))\n",
    "model.add(LSTM(units=100))\n",
    "model.add(Dense(1, activation='sigmoid'))"
   ]
  },
  {
   "cell_type": "code",
   "execution_count": 164,
   "id": "9e56cef4",
   "metadata": {},
   "outputs": [],
   "source": [
    "model.compile(optimizer='adam', loss='binary_crossentropy', metrics=['accuracy'])"
   ]
  },
  {
   "cell_type": "code",
   "execution_count": 165,
   "id": "1d5592a5",
   "metadata": {},
   "outputs": [
    {
     "data": {
      "text/plain": [
       "686"
      ]
     },
     "execution_count": 165,
     "metadata": {},
     "output_type": "execute_result"
    }
   ],
   "source": [
    "vocab_size = len(countvec.get_feature_names_out())\n",
    "vocab_size"
   ]
  },
  {
   "cell_type": "code",
   "execution_count": 166,
   "id": "d07e7b48",
   "metadata": {},
   "outputs": [
    {
     "name": "stdout",
     "output_type": "stream",
     "text": [
      "Epoch 1/10\n",
      "1/1 [==============================] - 3s 3s/step - loss: 0.6861 - accuracy: 0.7843 - val_loss: 0.6973 - val_accuracy: 0.4615\n",
      "Epoch 2/10\n",
      "1/1 [==============================] - 2s 2s/step - loss: 0.6662 - accuracy: 0.7843 - val_loss: 0.7025 - val_accuracy: 0.4615\n",
      "Epoch 3/10\n",
      "1/1 [==============================] - 1s 1s/step - loss: 0.6462 - accuracy: 0.7843 - val_loss: 0.7103 - val_accuracy: 0.4615\n",
      "Epoch 4/10\n",
      "1/1 [==============================] - 2s 2s/step - loss: 0.6254 - accuracy: 0.7843 - val_loss: 0.7221 - val_accuracy: 0.4615\n",
      "Epoch 5/10\n",
      "1/1 [==============================] - 1s 1s/step - loss: 0.6032 - accuracy: 0.7843 - val_loss: 0.7409 - val_accuracy: 0.4615\n",
      "Epoch 6/10\n",
      "1/1 [==============================] - 2s 2s/step - loss: 0.5794 - accuracy: 0.7843 - val_loss: 0.7723 - val_accuracy: 0.4615\n",
      "Epoch 7/10\n",
      "1/1 [==============================] - 2s 2s/step - loss: 0.5543 - accuracy: 0.7843 - val_loss: 0.8297 - val_accuracy: 0.4615\n",
      "Epoch 8/10\n",
      "1/1 [==============================] - 2s 2s/step - loss: 0.5305 - accuracy: 0.7843 - val_loss: 0.9465 - val_accuracy: 0.4615\n",
      "Epoch 9/10\n",
      "1/1 [==============================] - 2s 2s/step - loss: 0.5192 - accuracy: 0.7843 - val_loss: 1.1385 - val_accuracy: 0.4615\n",
      "Epoch 10/10\n",
      "1/1 [==============================] - 2s 2s/step - loss: 0.5434 - accuracy: 0.7843 - val_loss: 1.1337 - val_accuracy: 0.4615\n"
     ]
    },
    {
     "data": {
      "text/plain": [
       "<keras.callbacks.History at 0x18a4389f910>"
      ]
     },
     "execution_count": 166,
     "metadata": {},
     "output_type": "execute_result"
    }
   ],
   "source": [
    "model.fit(X_train, Y_train, validation_data=(X_val, y_val), epochs=10, batch_size=64)"
   ]
  },
  {
   "cell_type": "code",
   "execution_count": 167,
   "id": "51ff8fd8",
   "metadata": {},
   "outputs": [
    {
     "name": "stdout",
     "output_type": "stream",
     "text": [
      "1/1 [==============================] - 0s 312ms/step\n"
     ]
    }
   ],
   "source": [
    "y_pred = model.predict(X_test)"
   ]
  },
  {
   "cell_type": "code",
   "execution_count": 168,
   "id": "704e8785",
   "metadata": {},
   "outputs": [
    {
     "name": "stdout",
     "output_type": "stream",
     "text": [
      "1/1 [==============================] - 0s 116ms/step - loss: 0.9502 - accuracy: 0.5625\n",
      "Loss: 0.9501838088035583, Accuracy: 0.5625\n"
     ]
    }
   ],
   "source": [
    "loss, accuracy = model.evaluate(X_test, Y_test)\n",
    "print(f'Loss: {loss}, Accuracy: {accuracy}')"
   ]
  },
  {
   "cell_type": "code",
   "execution_count": null,
   "id": "d8ef327b",
   "metadata": {},
   "outputs": [],
   "source": []
  }
 ],
 "metadata": {
  "kernelspec": {
   "display_name": "Python 3 (ipykernel)",
   "language": "python",
   "name": "python3"
  },
  "language_info": {
   "codemirror_mode": {
    "name": "ipython",
    "version": 3
   },
   "file_extension": ".py",
   "mimetype": "text/x-python",
   "name": "python",
   "nbconvert_exporter": "python",
   "pygments_lexer": "ipython3",
   "version": "3.9.13"
  }
 },
 "nbformat": 4,
 "nbformat_minor": 5
}
